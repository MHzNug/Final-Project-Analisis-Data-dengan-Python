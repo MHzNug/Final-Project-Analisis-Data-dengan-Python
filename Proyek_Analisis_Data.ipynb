{
  "cells": [
    {
      "cell_type": "markdown",
      "metadata": {
        "id": "H9wADwK78DCz"
      },
      "source": [
        "# Proyek Analisis Data: Bike Sharing Datset\n",
        "- **Nama:** Muhammad Husni Zahran Nugrahanto\n",
        "- **Email:** MHunsny1604@gmail.com\n",
        "- **ID Dicoding:** mhznug"
      ]
    },
    {
      "cell_type": "markdown",
      "metadata": {
        "id": "eE0raob58DC0"
      },
      "source": [
        "## Menentukan Pertanyaan Bisnis"
      ]
    },
    {
      "cell_type": "markdown",
      "metadata": {
        "id": "GmQeQ5YF8DC0"
      },
      "source": [
        "- Bagaimana proporsi antara pengguna casual dan registered?\n",
        "- Bagaimana pola peminjaman sepeda per bulan dan apakah terdapat perbedaan antara tahun yang berbeda?\n",
        "- Bagaimana perbandingan peminjaman antara musim semi, panas, gugur, dan dingin?\n",
        "- Bagaimana pengaruh kondisi cuaca terhadap jumlah peminjaman sepeda?\n",
        "- Apakah hari libur memengaruhi jumlah peminjaman sepeda?\n",
        "- Seberapa besar perbedaan peminjaman antara hari kerja dan hari libur?\n",
        "- Bagaimana pengaruh faktor cuaca seperti temperatur, kelembaban, dan kecepatan angin terhadap jumlah peminjaman sepeda?"
      ]
    },
    {
      "cell_type": "markdown",
      "metadata": {
        "id": "H-z4QGlO8DC1"
      },
      "source": [
        "## Import Semua Packages/Library yang Digunakan"
      ]
    },
    {
      "cell_type": "code",
      "execution_count": 9,
      "metadata": {
        "id": "FVYwaObI8DC1"
      },
      "outputs": [],
      "source": [
        "import numpy as np\n",
        "import pandas as pd\n",
        "import matplotlib.pyplot as plt\n",
        "import seaborn as sns\n",
        "import statsmodels.api as sm"
      ]
    },
    {
      "cell_type": "markdown",
      "metadata": {
        "id": "h_Sh51Xy8DC1"
      },
      "source": [
        "## Data Wrangling"
      ]
    },
    {
      "cell_type": "markdown",
      "metadata": {
        "id": "sXU2GBYu8DC1"
      },
      "source": [
        "### Gathering Data"
      ]
    },
    {
      "cell_type": "code",
      "execution_count": 10,
      "metadata": {
        "id": "zjCBk1BI8DC1"
      },
      "outputs": [
        {
          "data": {
            "application/vnd.microsoft.datawrangler.viewer.v0+json": {
              "columns": [
                {
                  "name": "index",
                  "rawType": "int64",
                  "type": "integer"
                },
                {
                  "name": "instant",
                  "rawType": "int64",
                  "type": "integer"
                },
                {
                  "name": "dteday",
                  "rawType": "object",
                  "type": "string"
                },
                {
                  "name": "season",
                  "rawType": "int64",
                  "type": "integer"
                },
                {
                  "name": "year",
                  "rawType": "int64",
                  "type": "integer"
                },
                {
                  "name": "month",
                  "rawType": "int64",
                  "type": "integer"
                },
                {
                  "name": "hour",
                  "rawType": "int64",
                  "type": "integer"
                },
                {
                  "name": "holiday",
                  "rawType": "int64",
                  "type": "integer"
                },
                {
                  "name": "weekday",
                  "rawType": "int64",
                  "type": "integer"
                },
                {
                  "name": "workingday",
                  "rawType": "int64",
                  "type": "integer"
                },
                {
                  "name": "weather",
                  "rawType": "int64",
                  "type": "integer"
                },
                {
                  "name": "temp",
                  "rawType": "float64",
                  "type": "float"
                },
                {
                  "name": "atemp",
                  "rawType": "float64",
                  "type": "float"
                },
                {
                  "name": "humidity",
                  "rawType": "float64",
                  "type": "float"
                },
                {
                  "name": "windspeed",
                  "rawType": "float64",
                  "type": "float"
                },
                {
                  "name": "casual",
                  "rawType": "int64",
                  "type": "integer"
                },
                {
                  "name": "registered",
                  "rawType": "int64",
                  "type": "integer"
                },
                {
                  "name": "count",
                  "rawType": "int64",
                  "type": "integer"
                }
              ],
              "conversionMethod": "pd.DataFrame",
              "ref": "783dc5d9-f16b-4463-b691-273abd812da0",
              "rows": [
                [
                  "0",
                  "1",
                  "2011-01-01",
                  "1",
                  "0",
                  "1",
                  "0",
                  "0",
                  "6",
                  "0",
                  "1",
                  "0.24",
                  "0.2879",
                  "0.81",
                  "0.0",
                  "3",
                  "13",
                  "16"
                ],
                [
                  "1",
                  "2",
                  "2011-01-01",
                  "1",
                  "0",
                  "1",
                  "1",
                  "0",
                  "6",
                  "0",
                  "1",
                  "0.22",
                  "0.2727",
                  "0.8",
                  "0.0",
                  "8",
                  "32",
                  "40"
                ],
                [
                  "2",
                  "3",
                  "2011-01-01",
                  "1",
                  "0",
                  "1",
                  "2",
                  "0",
                  "6",
                  "0",
                  "1",
                  "0.22",
                  "0.2727",
                  "0.8",
                  "0.0",
                  "5",
                  "27",
                  "32"
                ],
                [
                  "3",
                  "4",
                  "2011-01-01",
                  "1",
                  "0",
                  "1",
                  "3",
                  "0",
                  "6",
                  "0",
                  "1",
                  "0.24",
                  "0.2879",
                  "0.75",
                  "0.0",
                  "3",
                  "10",
                  "13"
                ],
                [
                  "4",
                  "5",
                  "2011-01-01",
                  "1",
                  "0",
                  "1",
                  "4",
                  "0",
                  "6",
                  "0",
                  "1",
                  "0.24",
                  "0.2879",
                  "0.75",
                  "0.0",
                  "0",
                  "1",
                  "1"
                ]
              ],
              "shape": {
                "columns": 17,
                "rows": 5
              }
            },
            "text/html": [
              "<div>\n",
              "<style scoped>\n",
              "    .dataframe tbody tr th:only-of-type {\n",
              "        vertical-align: middle;\n",
              "    }\n",
              "\n",
              "    .dataframe tbody tr th {\n",
              "        vertical-align: top;\n",
              "    }\n",
              "\n",
              "    .dataframe thead th {\n",
              "        text-align: right;\n",
              "    }\n",
              "</style>\n",
              "<table border=\"1\" class=\"dataframe\">\n",
              "  <thead>\n",
              "    <tr style=\"text-align: right;\">\n",
              "      <th></th>\n",
              "      <th>instant</th>\n",
              "      <th>dteday</th>\n",
              "      <th>season</th>\n",
              "      <th>year</th>\n",
              "      <th>month</th>\n",
              "      <th>hour</th>\n",
              "      <th>holiday</th>\n",
              "      <th>weekday</th>\n",
              "      <th>workingday</th>\n",
              "      <th>weather</th>\n",
              "      <th>temp</th>\n",
              "      <th>atemp</th>\n",
              "      <th>humidity</th>\n",
              "      <th>windspeed</th>\n",
              "      <th>casual</th>\n",
              "      <th>registered</th>\n",
              "      <th>count</th>\n",
              "    </tr>\n",
              "  </thead>\n",
              "  <tbody>\n",
              "    <tr>\n",
              "      <th>0</th>\n",
              "      <td>1</td>\n",
              "      <td>2011-01-01</td>\n",
              "      <td>1</td>\n",
              "      <td>0</td>\n",
              "      <td>1</td>\n",
              "      <td>0</td>\n",
              "      <td>0</td>\n",
              "      <td>6</td>\n",
              "      <td>0</td>\n",
              "      <td>1</td>\n",
              "      <td>0.24</td>\n",
              "      <td>0.2879</td>\n",
              "      <td>0.81</td>\n",
              "      <td>0.0</td>\n",
              "      <td>3</td>\n",
              "      <td>13</td>\n",
              "      <td>16</td>\n",
              "    </tr>\n",
              "    <tr>\n",
              "      <th>1</th>\n",
              "      <td>2</td>\n",
              "      <td>2011-01-01</td>\n",
              "      <td>1</td>\n",
              "      <td>0</td>\n",
              "      <td>1</td>\n",
              "      <td>1</td>\n",
              "      <td>0</td>\n",
              "      <td>6</td>\n",
              "      <td>0</td>\n",
              "      <td>1</td>\n",
              "      <td>0.22</td>\n",
              "      <td>0.2727</td>\n",
              "      <td>0.80</td>\n",
              "      <td>0.0</td>\n",
              "      <td>8</td>\n",
              "      <td>32</td>\n",
              "      <td>40</td>\n",
              "    </tr>\n",
              "    <tr>\n",
              "      <th>2</th>\n",
              "      <td>3</td>\n",
              "      <td>2011-01-01</td>\n",
              "      <td>1</td>\n",
              "      <td>0</td>\n",
              "      <td>1</td>\n",
              "      <td>2</td>\n",
              "      <td>0</td>\n",
              "      <td>6</td>\n",
              "      <td>0</td>\n",
              "      <td>1</td>\n",
              "      <td>0.22</td>\n",
              "      <td>0.2727</td>\n",
              "      <td>0.80</td>\n",
              "      <td>0.0</td>\n",
              "      <td>5</td>\n",
              "      <td>27</td>\n",
              "      <td>32</td>\n",
              "    </tr>\n",
              "    <tr>\n",
              "      <th>3</th>\n",
              "      <td>4</td>\n",
              "      <td>2011-01-01</td>\n",
              "      <td>1</td>\n",
              "      <td>0</td>\n",
              "      <td>1</td>\n",
              "      <td>3</td>\n",
              "      <td>0</td>\n",
              "      <td>6</td>\n",
              "      <td>0</td>\n",
              "      <td>1</td>\n",
              "      <td>0.24</td>\n",
              "      <td>0.2879</td>\n",
              "      <td>0.75</td>\n",
              "      <td>0.0</td>\n",
              "      <td>3</td>\n",
              "      <td>10</td>\n",
              "      <td>13</td>\n",
              "    </tr>\n",
              "    <tr>\n",
              "      <th>4</th>\n",
              "      <td>5</td>\n",
              "      <td>2011-01-01</td>\n",
              "      <td>1</td>\n",
              "      <td>0</td>\n",
              "      <td>1</td>\n",
              "      <td>4</td>\n",
              "      <td>0</td>\n",
              "      <td>6</td>\n",
              "      <td>0</td>\n",
              "      <td>1</td>\n",
              "      <td>0.24</td>\n",
              "      <td>0.2879</td>\n",
              "      <td>0.75</td>\n",
              "      <td>0.0</td>\n",
              "      <td>0</td>\n",
              "      <td>1</td>\n",
              "      <td>1</td>\n",
              "    </tr>\n",
              "  </tbody>\n",
              "</table>\n",
              "</div>"
            ],
            "text/plain": [
              "   instant      dteday  season  year  month  hour  holiday  weekday  \\\n",
              "0        1  2011-01-01       1     0      1     0        0        6   \n",
              "1        2  2011-01-01       1     0      1     1        0        6   \n",
              "2        3  2011-01-01       1     0      1     2        0        6   \n",
              "3        4  2011-01-01       1     0      1     3        0        6   \n",
              "4        5  2011-01-01       1     0      1     4        0        6   \n",
              "\n",
              "   workingday  weather  temp   atemp  humidity  windspeed  casual  registered  \\\n",
              "0           0        1  0.24  0.2879      0.81        0.0       3          13   \n",
              "1           0        1  0.22  0.2727      0.80        0.0       8          32   \n",
              "2           0        1  0.22  0.2727      0.80        0.0       5          27   \n",
              "3           0        1  0.24  0.2879      0.75        0.0       3          10   \n",
              "4           0        1  0.24  0.2879      0.75        0.0       0           1   \n",
              "\n",
              "   count  \n",
              "0     16  \n",
              "1     40  \n",
              "2     32  \n",
              "3     13  \n",
              "4      1  "
            ]
          },
          "metadata": {},
          "output_type": "display_data"
        },
        {
          "name": "stdout",
          "output_type": "stream",
          "text": [
            "(17379, 17)\n"
          ]
        }
      ],
      "source": [
        "df = pd.read_csv('https://raw.githubusercontent.com/hayhalo/Final-Project-Analisis-Data-dengan-Python/refs/heads/main/Data/hour.csv')\n",
        "\n",
        "# Mengubah nama kolom agar lebih mudah dipahami\n",
        "df = df.rename(columns={'yr':'year', 'mnth':'month', 'hum':'humidity', 'weathersit':'weather', 'cnt':'count', 'hr':'hour'})\n",
        "\n",
        "# Melihat 5 data teratas\n",
        "display(df.head())\n",
        "print(df.shape)"
      ]
    },
    {
      "cell_type": "markdown",
      "metadata": {
        "id": "MMi6xGaDkbCi"
      },
      "source": [
        "**Insight:**\n",
        "- Dataset adalah data peminjaman sepeda yang dipantau setiap jam selam tahun 2011 dan 2012\n",
        "- Dataset terdiri dari 17 kolom yang memuat kode unik, keterangan waktu, keterangan registrasi, indikator cuaca, dan jumlah peminjaman sepeda"
      ]
    },
    {
      "cell_type": "markdown",
      "metadata": {
        "id": "FHSiqaZp8DC1"
      },
      "source": [
        "### Assessing Data"
      ]
    },
    {
      "cell_type": "code",
      "execution_count": 11,
      "metadata": {
        "id": "ax-3tEjc9Cj1"
      },
      "outputs": [
        {
          "name": "stdout",
          "output_type": "stream",
          "text": [
            "<class 'pandas.core.frame.DataFrame'>\n",
            "RangeIndex: 17379 entries, 0 to 17378\n",
            "Data columns (total 17 columns):\n",
            " #   Column      Non-Null Count  Dtype  \n",
            "---  ------      --------------  -----  \n",
            " 0   instant     17379 non-null  int64  \n",
            " 1   dteday      17379 non-null  object \n",
            " 2   season      17379 non-null  int64  \n",
            " 3   year        17379 non-null  int64  \n",
            " 4   month       17379 non-null  int64  \n",
            " 5   hour        17379 non-null  int64  \n",
            " 6   holiday     17379 non-null  int64  \n",
            " 7   weekday     17379 non-null  int64  \n",
            " 8   workingday  17379 non-null  int64  \n",
            " 9   weather     17379 non-null  int64  \n",
            " 10  temp        17379 non-null  float64\n",
            " 11  atemp       17379 non-null  float64\n",
            " 12  humidity    17379 non-null  float64\n",
            " 13  windspeed   17379 non-null  float64\n",
            " 14  casual      17379 non-null  int64  \n",
            " 15  registered  17379 non-null  int64  \n",
            " 16  count       17379 non-null  int64  \n",
            "dtypes: float64(4), int64(12), object(1)\n",
            "memory usage: 2.3+ MB\n"
          ]
        }
      ],
      "source": [
        "df.info()"
      ]
    },
    {
      "cell_type": "code",
      "execution_count": 12,
      "metadata": {},
      "outputs": [
        {
          "data": {
            "text/plain": [
              "instant       0\n",
              "dteday        0\n",
              "season        0\n",
              "year          0\n",
              "month         0\n",
              "hour          0\n",
              "holiday       0\n",
              "weekday       0\n",
              "workingday    0\n",
              "weather       0\n",
              "temp          0\n",
              "atemp         0\n",
              "humidity      0\n",
              "windspeed     0\n",
              "casual        0\n",
              "registered    0\n",
              "count         0\n",
              "dtype: int64"
            ]
          },
          "execution_count": 12,
          "metadata": {},
          "output_type": "execute_result"
        }
      ],
      "source": [
        "df.isna().sum()"
      ]
    },
    {
      "cell_type": "code",
      "execution_count": 13,
      "metadata": {},
      "outputs": [
        {
          "name": "stdout",
          "output_type": "stream",
          "text": [
            "Jumlah data duplikat:  0\n"
          ]
        }
      ],
      "source": [
        "print(\"Jumlah data duplikat: \", df.duplicated().sum())"
      ]
    },
    {
      "cell_type": "code",
      "execution_count": 14,
      "metadata": {},
      "outputs": [
        {
          "data": {
            "application/vnd.microsoft.datawrangler.viewer.v0+json": {
              "columns": [
                {
                  "name": "index",
                  "rawType": "object",
                  "type": "string"
                },
                {
                  "name": "instant",
                  "rawType": "float64",
                  "type": "float"
                },
                {
                  "name": "season",
                  "rawType": "float64",
                  "type": "float"
                },
                {
                  "name": "year",
                  "rawType": "float64",
                  "type": "float"
                },
                {
                  "name": "month",
                  "rawType": "float64",
                  "type": "float"
                },
                {
                  "name": "hour",
                  "rawType": "float64",
                  "type": "float"
                },
                {
                  "name": "holiday",
                  "rawType": "float64",
                  "type": "float"
                },
                {
                  "name": "weekday",
                  "rawType": "float64",
                  "type": "float"
                },
                {
                  "name": "workingday",
                  "rawType": "float64",
                  "type": "float"
                },
                {
                  "name": "weather",
                  "rawType": "float64",
                  "type": "float"
                },
                {
                  "name": "temp",
                  "rawType": "float64",
                  "type": "float"
                },
                {
                  "name": "atemp",
                  "rawType": "float64",
                  "type": "float"
                },
                {
                  "name": "humidity",
                  "rawType": "float64",
                  "type": "float"
                },
                {
                  "name": "windspeed",
                  "rawType": "float64",
                  "type": "float"
                },
                {
                  "name": "casual",
                  "rawType": "float64",
                  "type": "float"
                },
                {
                  "name": "registered",
                  "rawType": "float64",
                  "type": "float"
                },
                {
                  "name": "count",
                  "rawType": "float64",
                  "type": "float"
                }
              ],
              "conversionMethod": "pd.DataFrame",
              "ref": "ba340d67-29ff-4bc7-8ab9-9a1f6a3b0573",
              "rows": [
                [
                  "count",
                  "17379.0",
                  "17379.0",
                  "17379.0",
                  "17379.0",
                  "17379.0",
                  "17379.0",
                  "17379.0",
                  "17379.0",
                  "17379.0",
                  "17379.0",
                  "17379.0",
                  "17379.0",
                  "17379.0",
                  "17379.0",
                  "17379.0",
                  "17379.0"
                ],
                [
                  "mean",
                  "8690.0",
                  "2.5016399102364923",
                  "0.5025605615973301",
                  "6.537775476149376",
                  "11.546751826917545",
                  "0.028770355026181024",
                  "3.003682605443351",
                  "0.6827205247712756",
                  "1.425283387997008",
                  "0.4969871684216583",
                  "0.4757751021347604",
                  "0.6272288394038783",
                  "0.1900976063064618",
                  "35.67621842453536",
                  "153.78686920996606",
                  "189.46308763450142"
                ],
                [
                  "std",
                  "5017.029499614288",
                  "1.1069181394480763",
                  "0.5000078290910197",
                  "3.4387757137501653",
                  "6.9144050952644935",
                  "0.16716527638437123",
                  "2.005771456110988",
                  "0.46543063352388286",
                  "0.6393568777542534",
                  "0.1925561212497219",
                  "0.17185021563535943",
                  "0.19292983406291508",
                  "0.12234022857279049",
                  "49.30503038705308",
                  "151.35728591258314",
                  "181.38759909186473"
                ],
                [
                  "min",
                  "1.0",
                  "1.0",
                  "0.0",
                  "1.0",
                  "0.0",
                  "0.0",
                  "0.0",
                  "0.0",
                  "1.0",
                  "0.02",
                  "0.0",
                  "0.0",
                  "0.0",
                  "0.0",
                  "0.0",
                  "1.0"
                ],
                [
                  "25%",
                  "4345.5",
                  "2.0",
                  "0.0",
                  "4.0",
                  "6.0",
                  "0.0",
                  "1.0",
                  "0.0",
                  "1.0",
                  "0.34",
                  "0.3333",
                  "0.48",
                  "0.1045",
                  "4.0",
                  "34.0",
                  "40.0"
                ],
                [
                  "50%",
                  "8690.0",
                  "3.0",
                  "1.0",
                  "7.0",
                  "12.0",
                  "0.0",
                  "3.0",
                  "1.0",
                  "1.0",
                  "0.5",
                  "0.4848",
                  "0.63",
                  "0.194",
                  "17.0",
                  "115.0",
                  "142.0"
                ],
                [
                  "75%",
                  "13034.5",
                  "3.0",
                  "1.0",
                  "10.0",
                  "18.0",
                  "0.0",
                  "5.0",
                  "1.0",
                  "2.0",
                  "0.66",
                  "0.6212",
                  "0.78",
                  "0.2537",
                  "48.0",
                  "220.0",
                  "281.0"
                ],
                [
                  "max",
                  "17379.0",
                  "4.0",
                  "1.0",
                  "12.0",
                  "23.0",
                  "1.0",
                  "6.0",
                  "1.0",
                  "4.0",
                  "1.0",
                  "1.0",
                  "1.0",
                  "0.8507",
                  "367.0",
                  "886.0",
                  "977.0"
                ]
              ],
              "shape": {
                "columns": 16,
                "rows": 8
              }
            },
            "text/html": [
              "<div>\n",
              "<style scoped>\n",
              "    .dataframe tbody tr th:only-of-type {\n",
              "        vertical-align: middle;\n",
              "    }\n",
              "\n",
              "    .dataframe tbody tr th {\n",
              "        vertical-align: top;\n",
              "    }\n",
              "\n",
              "    .dataframe thead th {\n",
              "        text-align: right;\n",
              "    }\n",
              "</style>\n",
              "<table border=\"1\" class=\"dataframe\">\n",
              "  <thead>\n",
              "    <tr style=\"text-align: right;\">\n",
              "      <th></th>\n",
              "      <th>instant</th>\n",
              "      <th>season</th>\n",
              "      <th>year</th>\n",
              "      <th>month</th>\n",
              "      <th>hour</th>\n",
              "      <th>holiday</th>\n",
              "      <th>weekday</th>\n",
              "      <th>workingday</th>\n",
              "      <th>weather</th>\n",
              "      <th>temp</th>\n",
              "      <th>atemp</th>\n",
              "      <th>humidity</th>\n",
              "      <th>windspeed</th>\n",
              "      <th>casual</th>\n",
              "      <th>registered</th>\n",
              "      <th>count</th>\n",
              "    </tr>\n",
              "  </thead>\n",
              "  <tbody>\n",
              "    <tr>\n",
              "      <th>count</th>\n",
              "      <td>17379.0000</td>\n",
              "      <td>17379.000000</td>\n",
              "      <td>17379.000000</td>\n",
              "      <td>17379.000000</td>\n",
              "      <td>17379.000000</td>\n",
              "      <td>17379.000000</td>\n",
              "      <td>17379.000000</td>\n",
              "      <td>17379.000000</td>\n",
              "      <td>17379.000000</td>\n",
              "      <td>17379.000000</td>\n",
              "      <td>17379.000000</td>\n",
              "      <td>17379.000000</td>\n",
              "      <td>17379.000000</td>\n",
              "      <td>17379.000000</td>\n",
              "      <td>17379.000000</td>\n",
              "      <td>17379.000000</td>\n",
              "    </tr>\n",
              "    <tr>\n",
              "      <th>mean</th>\n",
              "      <td>8690.0000</td>\n",
              "      <td>2.501640</td>\n",
              "      <td>0.502561</td>\n",
              "      <td>6.537775</td>\n",
              "      <td>11.546752</td>\n",
              "      <td>0.028770</td>\n",
              "      <td>3.003683</td>\n",
              "      <td>0.682721</td>\n",
              "      <td>1.425283</td>\n",
              "      <td>0.496987</td>\n",
              "      <td>0.475775</td>\n",
              "      <td>0.627229</td>\n",
              "      <td>0.190098</td>\n",
              "      <td>35.676218</td>\n",
              "      <td>153.786869</td>\n",
              "      <td>189.463088</td>\n",
              "    </tr>\n",
              "    <tr>\n",
              "      <th>std</th>\n",
              "      <td>5017.0295</td>\n",
              "      <td>1.106918</td>\n",
              "      <td>0.500008</td>\n",
              "      <td>3.438776</td>\n",
              "      <td>6.914405</td>\n",
              "      <td>0.167165</td>\n",
              "      <td>2.005771</td>\n",
              "      <td>0.465431</td>\n",
              "      <td>0.639357</td>\n",
              "      <td>0.192556</td>\n",
              "      <td>0.171850</td>\n",
              "      <td>0.192930</td>\n",
              "      <td>0.122340</td>\n",
              "      <td>49.305030</td>\n",
              "      <td>151.357286</td>\n",
              "      <td>181.387599</td>\n",
              "    </tr>\n",
              "    <tr>\n",
              "      <th>min</th>\n",
              "      <td>1.0000</td>\n",
              "      <td>1.000000</td>\n",
              "      <td>0.000000</td>\n",
              "      <td>1.000000</td>\n",
              "      <td>0.000000</td>\n",
              "      <td>0.000000</td>\n",
              "      <td>0.000000</td>\n",
              "      <td>0.000000</td>\n",
              "      <td>1.000000</td>\n",
              "      <td>0.020000</td>\n",
              "      <td>0.000000</td>\n",
              "      <td>0.000000</td>\n",
              "      <td>0.000000</td>\n",
              "      <td>0.000000</td>\n",
              "      <td>0.000000</td>\n",
              "      <td>1.000000</td>\n",
              "    </tr>\n",
              "    <tr>\n",
              "      <th>25%</th>\n",
              "      <td>4345.5000</td>\n",
              "      <td>2.000000</td>\n",
              "      <td>0.000000</td>\n",
              "      <td>4.000000</td>\n",
              "      <td>6.000000</td>\n",
              "      <td>0.000000</td>\n",
              "      <td>1.000000</td>\n",
              "      <td>0.000000</td>\n",
              "      <td>1.000000</td>\n",
              "      <td>0.340000</td>\n",
              "      <td>0.333300</td>\n",
              "      <td>0.480000</td>\n",
              "      <td>0.104500</td>\n",
              "      <td>4.000000</td>\n",
              "      <td>34.000000</td>\n",
              "      <td>40.000000</td>\n",
              "    </tr>\n",
              "    <tr>\n",
              "      <th>50%</th>\n",
              "      <td>8690.0000</td>\n",
              "      <td>3.000000</td>\n",
              "      <td>1.000000</td>\n",
              "      <td>7.000000</td>\n",
              "      <td>12.000000</td>\n",
              "      <td>0.000000</td>\n",
              "      <td>3.000000</td>\n",
              "      <td>1.000000</td>\n",
              "      <td>1.000000</td>\n",
              "      <td>0.500000</td>\n",
              "      <td>0.484800</td>\n",
              "      <td>0.630000</td>\n",
              "      <td>0.194000</td>\n",
              "      <td>17.000000</td>\n",
              "      <td>115.000000</td>\n",
              "      <td>142.000000</td>\n",
              "    </tr>\n",
              "    <tr>\n",
              "      <th>75%</th>\n",
              "      <td>13034.5000</td>\n",
              "      <td>3.000000</td>\n",
              "      <td>1.000000</td>\n",
              "      <td>10.000000</td>\n",
              "      <td>18.000000</td>\n",
              "      <td>0.000000</td>\n",
              "      <td>5.000000</td>\n",
              "      <td>1.000000</td>\n",
              "      <td>2.000000</td>\n",
              "      <td>0.660000</td>\n",
              "      <td>0.621200</td>\n",
              "      <td>0.780000</td>\n",
              "      <td>0.253700</td>\n",
              "      <td>48.000000</td>\n",
              "      <td>220.000000</td>\n",
              "      <td>281.000000</td>\n",
              "    </tr>\n",
              "    <tr>\n",
              "      <th>max</th>\n",
              "      <td>17379.0000</td>\n",
              "      <td>4.000000</td>\n",
              "      <td>1.000000</td>\n",
              "      <td>12.000000</td>\n",
              "      <td>23.000000</td>\n",
              "      <td>1.000000</td>\n",
              "      <td>6.000000</td>\n",
              "      <td>1.000000</td>\n",
              "      <td>4.000000</td>\n",
              "      <td>1.000000</td>\n",
              "      <td>1.000000</td>\n",
              "      <td>1.000000</td>\n",
              "      <td>0.850700</td>\n",
              "      <td>367.000000</td>\n",
              "      <td>886.000000</td>\n",
              "      <td>977.000000</td>\n",
              "    </tr>\n",
              "  </tbody>\n",
              "</table>\n",
              "</div>"
            ],
            "text/plain": [
              "          instant        season          year         month          hour  \\\n",
              "count  17379.0000  17379.000000  17379.000000  17379.000000  17379.000000   \n",
              "mean    8690.0000      2.501640      0.502561      6.537775     11.546752   \n",
              "std     5017.0295      1.106918      0.500008      3.438776      6.914405   \n",
              "min        1.0000      1.000000      0.000000      1.000000      0.000000   \n",
              "25%     4345.5000      2.000000      0.000000      4.000000      6.000000   \n",
              "50%     8690.0000      3.000000      1.000000      7.000000     12.000000   \n",
              "75%    13034.5000      3.000000      1.000000     10.000000     18.000000   \n",
              "max    17379.0000      4.000000      1.000000     12.000000     23.000000   \n",
              "\n",
              "            holiday       weekday    workingday       weather          temp  \\\n",
              "count  17379.000000  17379.000000  17379.000000  17379.000000  17379.000000   \n",
              "mean       0.028770      3.003683      0.682721      1.425283      0.496987   \n",
              "std        0.167165      2.005771      0.465431      0.639357      0.192556   \n",
              "min        0.000000      0.000000      0.000000      1.000000      0.020000   \n",
              "25%        0.000000      1.000000      0.000000      1.000000      0.340000   \n",
              "50%        0.000000      3.000000      1.000000      1.000000      0.500000   \n",
              "75%        0.000000      5.000000      1.000000      2.000000      0.660000   \n",
              "max        1.000000      6.000000      1.000000      4.000000      1.000000   \n",
              "\n",
              "              atemp      humidity     windspeed        casual    registered  \\\n",
              "count  17379.000000  17379.000000  17379.000000  17379.000000  17379.000000   \n",
              "mean       0.475775      0.627229      0.190098     35.676218    153.786869   \n",
              "std        0.171850      0.192930      0.122340     49.305030    151.357286   \n",
              "min        0.000000      0.000000      0.000000      0.000000      0.000000   \n",
              "25%        0.333300      0.480000      0.104500      4.000000     34.000000   \n",
              "50%        0.484800      0.630000      0.194000     17.000000    115.000000   \n",
              "75%        0.621200      0.780000      0.253700     48.000000    220.000000   \n",
              "max        1.000000      1.000000      0.850700    367.000000    886.000000   \n",
              "\n",
              "              count  \n",
              "count  17379.000000  \n",
              "mean     189.463088  \n",
              "std      181.387599  \n",
              "min        1.000000  \n",
              "25%       40.000000  \n",
              "50%      142.000000  \n",
              "75%      281.000000  \n",
              "max      977.000000  "
            ]
          },
          "execution_count": 14,
          "metadata": {},
          "output_type": "execute_result"
        }
      ],
      "source": [
        "df.describe()"
      ]
    },
    {
      "cell_type": "markdown",
      "metadata": {
        "id": "7dtxhAPrkhPL"
      },
      "source": [
        "**Insight:**\n",
        "- Data yang digunakan sudah lengkap tanpa nilai yang hilang dan duplikasi pada data\n",
        "- Masih terdapat kolom yang tipe datanya kurang sesuai (misal: kolon `dteday` memiliki nilai beripa tanggal namun tipe datanya masih berupa object)"
      ]
    },
    {
      "cell_type": "markdown",
      "metadata": {
        "id": "EhN5R4hr8DC1"
      },
      "source": [
        "### Cleaning Data"
      ]
    },
    {
      "cell_type": "markdown",
      "metadata": {},
      "source": [
        "Memeperbaiki Tipe Data"
      ]
    },
    {
      "cell_type": "code",
      "execution_count": 15,
      "metadata": {},
      "outputs": [],
      "source": [
        "# Ubah kolom menjadi datetime\n",
        "df['dteday'] = pd.to_datetime(df['dteday'])"
      ]
    },
    {
      "cell_type": "code",
      "execution_count": 16,
      "metadata": {},
      "outputs": [],
      "source": [
        "# Ubah kolom menjadi kategori\n",
        "df['year'] = df['dteday'].dt.year      \n",
        "df['month'] = df['dteday'].dt.strftime('%B')\n",
        "df['weekday'] = df['dteday'].dt.day_name() \n",
        "df['hour'] = pd.to_datetime(df['hour'], format='%H').dt.time"
      ]
    },
    {
      "cell_type": "code",
      "execution_count": 17,
      "metadata": {},
      "outputs": [],
      "source": [
        "# Ubah kolom menjadi boolean\n",
        "df['holiday'] = df['holiday'].astype('bool')\n",
        "df['workingday'] = df['workingday'].astype('bool')"
      ]
    },
    {
      "cell_type": "code",
      "execution_count": 18,
      "metadata": {},
      "outputs": [],
      "source": [
        "# Mapping season (1 → Spring, 2 → Summer, 3 → Fall, 4 → Winter)\n",
        "season_map = {1: 'Spring', 2: 'Summer', 3: 'Fall', 4: 'Winter'}\n",
        "\n",
        "# Mengganti angka pada kolom musim dengan label kategori\n",
        "df['season'] = df['season'].map(season_map)"
      ]
    },
    {
      "cell_type": "code",
      "execution_count": 19,
      "metadata": {},
      "outputs": [],
      "source": [
        "# MApping weather (1 → Clear/Few Clouds, 2 → Mist/Cloudy, 3 → Light Snow/Rain, 4 → Heavy Rain/Snow)\n",
        "weather_map = {1: 'Clear/Few Clouds', 2: 'Mist/Cloudy', 3: 'Light Snow/Rain', 4: 'Heavy Rain/Snow'}\n",
        "\n",
        "# Mengganti angka pada kolom cuaca menjadi label kategori\n",
        "df['weather'] = df['weather'].map(weather_map)"
      ]
    },
    {
      "cell_type": "code",
      "execution_count": 20,
      "metadata": {},
      "outputs": [
        {
          "name": "stdout",
          "output_type": "stream",
          "text": [
            "<class 'pandas.core.frame.DataFrame'>\n",
            "RangeIndex: 17379 entries, 0 to 17378\n",
            "Data columns (total 17 columns):\n",
            " #   Column      Non-Null Count  Dtype         \n",
            "---  ------      --------------  -----         \n",
            " 0   instant     17379 non-null  int64         \n",
            " 1   dteday      17379 non-null  datetime64[ns]\n",
            " 2   season      17379 non-null  object        \n",
            " 3   year        17379 non-null  int32         \n",
            " 4   month       17379 non-null  object        \n",
            " 5   hour        17379 non-null  object        \n",
            " 6   holiday     17379 non-null  bool          \n",
            " 7   weekday     17379 non-null  object        \n",
            " 8   workingday  17379 non-null  bool          \n",
            " 9   weather     17379 non-null  object        \n",
            " 10  temp        17379 non-null  float64       \n",
            " 11  atemp       17379 non-null  float64       \n",
            " 12  humidity    17379 non-null  float64       \n",
            " 13  windspeed   17379 non-null  float64       \n",
            " 14  casual      17379 non-null  int64         \n",
            " 15  registered  17379 non-null  int64         \n",
            " 16  count       17379 non-null  int64         \n",
            "dtypes: bool(2), datetime64[ns](1), float64(4), int32(1), int64(4), object(5)\n",
            "memory usage: 2.0+ MB\n"
          ]
        }
      ],
      "source": [
        "df.info()"
      ]
    },
    {
      "cell_type": "markdown",
      "metadata": {
        "id": "Q_5ejIqckiSP"
      },
      "source": [
        "**Insight:**\n",
        "- mengubah tipe data pada kolom `dteday` menjadi datetime\n",
        "- mengubah tipe data pada kolom `year`, `month`, `weekday`, dan `hour` menjadi kategori\n",
        "- mengubah tipe daya pada kolom `holiday` dan `workingday` menjadi boolean\n",
        "- mengubah tipe data pada kolom `season` dan `weather` menjadi object sesuai dengan ketentuan dari datset"
      ]
    },
    {
      "cell_type": "markdown",
      "metadata": {
        "id": "gp-Y6wU38DC1"
      },
      "source": [
        "## Exploratory Data Analysis (EDA)"
      ]
    },
    {
      "cell_type": "markdown",
      "metadata": {
        "id": "MW7WF2kr8DC1"
      },
      "source": [
        "### Explore Hourly Bike Sharing \n"
      ]
    },
    {
      "cell_type": "code",
      "execution_count": 21,
      "metadata": {},
      "outputs": [
        {
          "data": {
            "application/vnd.microsoft.datawrangler.viewer.v0+json": {
              "columns": [
                {
                  "name": "index",
                  "rawType": "int64",
                  "type": "integer"
                },
                {
                  "name": "instant",
                  "rawType": "int64",
                  "type": "integer"
                },
                {
                  "name": "dteday",
                  "rawType": "datetime64[ns]",
                  "type": "datetime"
                },
                {
                  "name": "season",
                  "rawType": "object",
                  "type": "string"
                },
                {
                  "name": "year",
                  "rawType": "int32",
                  "type": "integer"
                },
                {
                  "name": "month",
                  "rawType": "object",
                  "type": "string"
                },
                {
                  "name": "hour",
                  "rawType": "object",
                  "type": "unknown"
                },
                {
                  "name": "holiday",
                  "rawType": "bool",
                  "type": "boolean"
                },
                {
                  "name": "weekday",
                  "rawType": "object",
                  "type": "string"
                },
                {
                  "name": "workingday",
                  "rawType": "bool",
                  "type": "boolean"
                },
                {
                  "name": "weather",
                  "rawType": "object",
                  "type": "string"
                },
                {
                  "name": "temp",
                  "rawType": "float64",
                  "type": "float"
                },
                {
                  "name": "atemp",
                  "rawType": "float64",
                  "type": "float"
                },
                {
                  "name": "humidity",
                  "rawType": "float64",
                  "type": "float"
                },
                {
                  "name": "windspeed",
                  "rawType": "float64",
                  "type": "float"
                },
                {
                  "name": "casual",
                  "rawType": "int64",
                  "type": "integer"
                },
                {
                  "name": "registered",
                  "rawType": "int64",
                  "type": "integer"
                },
                {
                  "name": "count",
                  "rawType": "int64",
                  "type": "integer"
                }
              ],
              "conversionMethod": "pd.DataFrame",
              "ref": "a38b11d0-3d2b-4247-b375-d299955a2908",
              "rows": [
                [
                  "1204",
                  "1205",
                  "2011-02-23 00:00:00",
                  "Spring",
                  "2011",
                  "February",
                  "06:00:00",
                  "False",
                  "Wednesday",
                  "True",
                  "Clear/Few Clouds",
                  "0.12",
                  "0.1515",
                  "0.5",
                  "0.1045",
                  "0",
                  "36",
                  "36"
                ],
                [
                  "12334",
                  "12335",
                  "2012-06-03 00:00:00",
                  "Summer",
                  "2012",
                  "June",
                  "03:00:00",
                  "False",
                  "Sunday",
                  "False",
                  "Clear/Few Clouds",
                  "0.52",
                  "0.5",
                  "0.63",
                  "0.1045",
                  "16",
                  "34",
                  "50"
                ],
                [
                  "11024",
                  "11025",
                  "2012-04-09 00:00:00",
                  "Summer",
                  "2012",
                  "April",
                  "12:00:00",
                  "False",
                  "Monday",
                  "True",
                  "Clear/Few Clouds",
                  "0.54",
                  "0.5152",
                  "0.28",
                  "0.7164",
                  "94",
                  "186",
                  "280"
                ],
                [
                  "4702",
                  "4703",
                  "2011-07-19 00:00:00",
                  "Fall",
                  "2011",
                  "July",
                  "20:00:00",
                  "False",
                  "Tuesday",
                  "True",
                  "Clear/Few Clouds",
                  "0.74",
                  "0.7273",
                  "0.74",
                  "0.0896",
                  "48",
                  "229",
                  "277"
                ],
                [
                  "3727",
                  "3728",
                  "2011-06-09 00:00:00",
                  "Summer",
                  "2011",
                  "June",
                  "05:00:00",
                  "False",
                  "Thursday",
                  "True",
                  "Mist/Cloudy",
                  "0.7",
                  "0.6667",
                  "0.84",
                  "0.0",
                  "1",
                  "19",
                  "20"
                ]
              ],
              "shape": {
                "columns": 17,
                "rows": 5
              }
            },
            "text/html": [
              "<div>\n",
              "<style scoped>\n",
              "    .dataframe tbody tr th:only-of-type {\n",
              "        vertical-align: middle;\n",
              "    }\n",
              "\n",
              "    .dataframe tbody tr th {\n",
              "        vertical-align: top;\n",
              "    }\n",
              "\n",
              "    .dataframe thead th {\n",
              "        text-align: right;\n",
              "    }\n",
              "</style>\n",
              "<table border=\"1\" class=\"dataframe\">\n",
              "  <thead>\n",
              "    <tr style=\"text-align: right;\">\n",
              "      <th></th>\n",
              "      <th>instant</th>\n",
              "      <th>dteday</th>\n",
              "      <th>season</th>\n",
              "      <th>year</th>\n",
              "      <th>month</th>\n",
              "      <th>hour</th>\n",
              "      <th>holiday</th>\n",
              "      <th>weekday</th>\n",
              "      <th>workingday</th>\n",
              "      <th>weather</th>\n",
              "      <th>temp</th>\n",
              "      <th>atemp</th>\n",
              "      <th>humidity</th>\n",
              "      <th>windspeed</th>\n",
              "      <th>casual</th>\n",
              "      <th>registered</th>\n",
              "      <th>count</th>\n",
              "    </tr>\n",
              "  </thead>\n",
              "  <tbody>\n",
              "    <tr>\n",
              "      <th>1204</th>\n",
              "      <td>1205</td>\n",
              "      <td>2011-02-23</td>\n",
              "      <td>Spring</td>\n",
              "      <td>2011</td>\n",
              "      <td>February</td>\n",
              "      <td>06:00:00</td>\n",
              "      <td>False</td>\n",
              "      <td>Wednesday</td>\n",
              "      <td>True</td>\n",
              "      <td>Clear/Few Clouds</td>\n",
              "      <td>0.12</td>\n",
              "      <td>0.1515</td>\n",
              "      <td>0.50</td>\n",
              "      <td>0.1045</td>\n",
              "      <td>0</td>\n",
              "      <td>36</td>\n",
              "      <td>36</td>\n",
              "    </tr>\n",
              "    <tr>\n",
              "      <th>12334</th>\n",
              "      <td>12335</td>\n",
              "      <td>2012-06-03</td>\n",
              "      <td>Summer</td>\n",
              "      <td>2012</td>\n",
              "      <td>June</td>\n",
              "      <td>03:00:00</td>\n",
              "      <td>False</td>\n",
              "      <td>Sunday</td>\n",
              "      <td>False</td>\n",
              "      <td>Clear/Few Clouds</td>\n",
              "      <td>0.52</td>\n",
              "      <td>0.5000</td>\n",
              "      <td>0.63</td>\n",
              "      <td>0.1045</td>\n",
              "      <td>16</td>\n",
              "      <td>34</td>\n",
              "      <td>50</td>\n",
              "    </tr>\n",
              "    <tr>\n",
              "      <th>11024</th>\n",
              "      <td>11025</td>\n",
              "      <td>2012-04-09</td>\n",
              "      <td>Summer</td>\n",
              "      <td>2012</td>\n",
              "      <td>April</td>\n",
              "      <td>12:00:00</td>\n",
              "      <td>False</td>\n",
              "      <td>Monday</td>\n",
              "      <td>True</td>\n",
              "      <td>Clear/Few Clouds</td>\n",
              "      <td>0.54</td>\n",
              "      <td>0.5152</td>\n",
              "      <td>0.28</td>\n",
              "      <td>0.7164</td>\n",
              "      <td>94</td>\n",
              "      <td>186</td>\n",
              "      <td>280</td>\n",
              "    </tr>\n",
              "    <tr>\n",
              "      <th>4702</th>\n",
              "      <td>4703</td>\n",
              "      <td>2011-07-19</td>\n",
              "      <td>Fall</td>\n",
              "      <td>2011</td>\n",
              "      <td>July</td>\n",
              "      <td>20:00:00</td>\n",
              "      <td>False</td>\n",
              "      <td>Tuesday</td>\n",
              "      <td>True</td>\n",
              "      <td>Clear/Few Clouds</td>\n",
              "      <td>0.74</td>\n",
              "      <td>0.7273</td>\n",
              "      <td>0.74</td>\n",
              "      <td>0.0896</td>\n",
              "      <td>48</td>\n",
              "      <td>229</td>\n",
              "      <td>277</td>\n",
              "    </tr>\n",
              "    <tr>\n",
              "      <th>3727</th>\n",
              "      <td>3728</td>\n",
              "      <td>2011-06-09</td>\n",
              "      <td>Summer</td>\n",
              "      <td>2011</td>\n",
              "      <td>June</td>\n",
              "      <td>05:00:00</td>\n",
              "      <td>False</td>\n",
              "      <td>Thursday</td>\n",
              "      <td>True</td>\n",
              "      <td>Mist/Cloudy</td>\n",
              "      <td>0.70</td>\n",
              "      <td>0.6667</td>\n",
              "      <td>0.84</td>\n",
              "      <td>0.0000</td>\n",
              "      <td>1</td>\n",
              "      <td>19</td>\n",
              "      <td>20</td>\n",
              "    </tr>\n",
              "  </tbody>\n",
              "</table>\n",
              "</div>"
            ],
            "text/plain": [
              "       instant     dteday  season  year     month      hour  holiday  \\\n",
              "1204      1205 2011-02-23  Spring  2011  February  06:00:00    False   \n",
              "12334    12335 2012-06-03  Summer  2012      June  03:00:00    False   \n",
              "11024    11025 2012-04-09  Summer  2012     April  12:00:00    False   \n",
              "4702      4703 2011-07-19    Fall  2011      July  20:00:00    False   \n",
              "3727      3728 2011-06-09  Summer  2011      June  05:00:00    False   \n",
              "\n",
              "         weekday  workingday           weather  temp   atemp  humidity  \\\n",
              "1204   Wednesday        True  Clear/Few Clouds  0.12  0.1515      0.50   \n",
              "12334     Sunday       False  Clear/Few Clouds  0.52  0.5000      0.63   \n",
              "11024     Monday        True  Clear/Few Clouds  0.54  0.5152      0.28   \n",
              "4702     Tuesday        True  Clear/Few Clouds  0.74  0.7273      0.74   \n",
              "3727    Thursday        True       Mist/Cloudy  0.70  0.6667      0.84   \n",
              "\n",
              "       windspeed  casual  registered  count  \n",
              "1204      0.1045       0          36     36  \n",
              "12334     0.1045      16          34     50  \n",
              "11024     0.7164      94         186    280  \n",
              "4702      0.0896      48         229    277  \n",
              "3727      0.0000       1          19     20  "
            ]
          },
          "execution_count": 21,
          "metadata": {},
          "output_type": "execute_result"
        }
      ],
      "source": [
        "df.sample(5)"
      ]
    },
    {
      "cell_type": "code",
      "execution_count": 22,
      "metadata": {},
      "outputs": [
        {
          "data": {
            "application/vnd.microsoft.datawrangler.viewer.v0+json": {
              "columns": [
                {
                  "name": "index",
                  "rawType": "object",
                  "type": "string"
                },
                {
                  "name": "instant",
                  "rawType": "float64",
                  "type": "float"
                },
                {
                  "name": "dteday",
                  "rawType": "object",
                  "type": "unknown"
                },
                {
                  "name": "season",
                  "rawType": "object",
                  "type": "unknown"
                },
                {
                  "name": "year",
                  "rawType": "float64",
                  "type": "float"
                },
                {
                  "name": "month",
                  "rawType": "object",
                  "type": "unknown"
                },
                {
                  "name": "hour",
                  "rawType": "object",
                  "type": "unknown"
                },
                {
                  "name": "holiday",
                  "rawType": "object",
                  "type": "unknown"
                },
                {
                  "name": "weekday",
                  "rawType": "object",
                  "type": "unknown"
                },
                {
                  "name": "workingday",
                  "rawType": "object",
                  "type": "unknown"
                },
                {
                  "name": "weather",
                  "rawType": "object",
                  "type": "unknown"
                },
                {
                  "name": "temp",
                  "rawType": "float64",
                  "type": "float"
                },
                {
                  "name": "atemp",
                  "rawType": "float64",
                  "type": "float"
                },
                {
                  "name": "humidity",
                  "rawType": "float64",
                  "type": "float"
                },
                {
                  "name": "windspeed",
                  "rawType": "float64",
                  "type": "float"
                },
                {
                  "name": "casual",
                  "rawType": "float64",
                  "type": "float"
                },
                {
                  "name": "registered",
                  "rawType": "float64",
                  "type": "float"
                },
                {
                  "name": "count",
                  "rawType": "float64",
                  "type": "float"
                }
              ],
              "conversionMethod": "pd.DataFrame",
              "ref": "a79c4d48-f09b-4265-bc61-fc862c3369f5",
              "rows": [
                [
                  "count",
                  "17379.0",
                  "17379",
                  "17379",
                  "17379.0",
                  "17379",
                  "17379",
                  "17379",
                  "17379",
                  "17379",
                  "17379",
                  "17379.0",
                  "17379.0",
                  "17379.0",
                  "17379.0",
                  "17379.0",
                  "17379.0",
                  "17379.0"
                ],
                [
                  "unique",
                  null,
                  null,
                  "4",
                  null,
                  "12",
                  "24",
                  "2",
                  "7",
                  "2",
                  "4",
                  null,
                  null,
                  null,
                  null,
                  null,
                  null,
                  null
                ],
                [
                  "top",
                  null,
                  null,
                  "Fall",
                  null,
                  "July",
                  "16:00:00",
                  "False",
                  "Saturday",
                  "True",
                  "Clear/Few Clouds",
                  null,
                  null,
                  null,
                  null,
                  null,
                  null,
                  null
                ],
                [
                  "freq",
                  null,
                  null,
                  "4496",
                  null,
                  "1488",
                  "730",
                  "16879",
                  "2512",
                  "11865",
                  "11413",
                  null,
                  null,
                  null,
                  null,
                  null,
                  null,
                  null
                ],
                [
                  "mean",
                  "8690.0",
                  "2012-01-02 04:08:34.552045568",
                  null,
                  "2011.5025605615974",
                  null,
                  null,
                  null,
                  null,
                  null,
                  null,
                  "0.4969871684216583",
                  "0.4757751021347604",
                  "0.6272288394038783",
                  "0.1900976063064618",
                  "35.67621842453536",
                  "153.78686920996606",
                  "189.46308763450142"
                ],
                [
                  "min",
                  "1.0",
                  "2011-01-01 00:00:00",
                  null,
                  "2011.0",
                  null,
                  null,
                  null,
                  null,
                  null,
                  null,
                  "0.02",
                  "0.0",
                  "0.0",
                  "0.0",
                  "0.0",
                  "0.0",
                  "1.0"
                ],
                [
                  "25%",
                  "4345.5",
                  "2011-07-04 00:00:00",
                  null,
                  "2011.0",
                  null,
                  null,
                  null,
                  null,
                  null,
                  null,
                  "0.34",
                  "0.3333",
                  "0.48",
                  "0.1045",
                  "4.0",
                  "34.0",
                  "40.0"
                ],
                [
                  "50%",
                  "8690.0",
                  "2012-01-02 00:00:00",
                  null,
                  "2012.0",
                  null,
                  null,
                  null,
                  null,
                  null,
                  null,
                  "0.5",
                  "0.4848",
                  "0.63",
                  "0.194",
                  "17.0",
                  "115.0",
                  "142.0"
                ],
                [
                  "75%",
                  "13034.5",
                  "2012-07-02 00:00:00",
                  null,
                  "2012.0",
                  null,
                  null,
                  null,
                  null,
                  null,
                  null,
                  "0.66",
                  "0.6212",
                  "0.78",
                  "0.2537",
                  "48.0",
                  "220.0",
                  "281.0"
                ],
                [
                  "max",
                  "17379.0",
                  "2012-12-31 00:00:00",
                  null,
                  "2012.0",
                  null,
                  null,
                  null,
                  null,
                  null,
                  null,
                  "1.0",
                  "1.0",
                  "1.0",
                  "0.8507",
                  "367.0",
                  "886.0",
                  "977.0"
                ],
                [
                  "std",
                  "5017.029499614288",
                  null,
                  null,
                  "0.5000078290910198",
                  null,
                  null,
                  null,
                  null,
                  null,
                  null,
                  "0.1925561212497219",
                  "0.17185021563535943",
                  "0.19292983406291508",
                  "0.12234022857279049",
                  "49.30503038705308",
                  "151.35728591258314",
                  "181.38759909186473"
                ]
              ],
              "shape": {
                "columns": 17,
                "rows": 11
              }
            },
            "text/html": [
              "<div>\n",
              "<style scoped>\n",
              "    .dataframe tbody tr th:only-of-type {\n",
              "        vertical-align: middle;\n",
              "    }\n",
              "\n",
              "    .dataframe tbody tr th {\n",
              "        vertical-align: top;\n",
              "    }\n",
              "\n",
              "    .dataframe thead th {\n",
              "        text-align: right;\n",
              "    }\n",
              "</style>\n",
              "<table border=\"1\" class=\"dataframe\">\n",
              "  <thead>\n",
              "    <tr style=\"text-align: right;\">\n",
              "      <th></th>\n",
              "      <th>instant</th>\n",
              "      <th>dteday</th>\n",
              "      <th>season</th>\n",
              "      <th>year</th>\n",
              "      <th>month</th>\n",
              "      <th>hour</th>\n",
              "      <th>holiday</th>\n",
              "      <th>weekday</th>\n",
              "      <th>workingday</th>\n",
              "      <th>weather</th>\n",
              "      <th>temp</th>\n",
              "      <th>atemp</th>\n",
              "      <th>humidity</th>\n",
              "      <th>windspeed</th>\n",
              "      <th>casual</th>\n",
              "      <th>registered</th>\n",
              "      <th>count</th>\n",
              "    </tr>\n",
              "  </thead>\n",
              "  <tbody>\n",
              "    <tr>\n",
              "      <th>count</th>\n",
              "      <td>17379.0000</td>\n",
              "      <td>17379</td>\n",
              "      <td>17379</td>\n",
              "      <td>17379.000000</td>\n",
              "      <td>17379</td>\n",
              "      <td>17379</td>\n",
              "      <td>17379</td>\n",
              "      <td>17379</td>\n",
              "      <td>17379</td>\n",
              "      <td>17379</td>\n",
              "      <td>17379.000000</td>\n",
              "      <td>17379.000000</td>\n",
              "      <td>17379.000000</td>\n",
              "      <td>17379.000000</td>\n",
              "      <td>17379.000000</td>\n",
              "      <td>17379.000000</td>\n",
              "      <td>17379.000000</td>\n",
              "    </tr>\n",
              "    <tr>\n",
              "      <th>unique</th>\n",
              "      <td>NaN</td>\n",
              "      <td>NaN</td>\n",
              "      <td>4</td>\n",
              "      <td>NaN</td>\n",
              "      <td>12</td>\n",
              "      <td>24</td>\n",
              "      <td>2</td>\n",
              "      <td>7</td>\n",
              "      <td>2</td>\n",
              "      <td>4</td>\n",
              "      <td>NaN</td>\n",
              "      <td>NaN</td>\n",
              "      <td>NaN</td>\n",
              "      <td>NaN</td>\n",
              "      <td>NaN</td>\n",
              "      <td>NaN</td>\n",
              "      <td>NaN</td>\n",
              "    </tr>\n",
              "    <tr>\n",
              "      <th>top</th>\n",
              "      <td>NaN</td>\n",
              "      <td>NaN</td>\n",
              "      <td>Fall</td>\n",
              "      <td>NaN</td>\n",
              "      <td>July</td>\n",
              "      <td>16:00:00</td>\n",
              "      <td>False</td>\n",
              "      <td>Saturday</td>\n",
              "      <td>True</td>\n",
              "      <td>Clear/Few Clouds</td>\n",
              "      <td>NaN</td>\n",
              "      <td>NaN</td>\n",
              "      <td>NaN</td>\n",
              "      <td>NaN</td>\n",
              "      <td>NaN</td>\n",
              "      <td>NaN</td>\n",
              "      <td>NaN</td>\n",
              "    </tr>\n",
              "    <tr>\n",
              "      <th>freq</th>\n",
              "      <td>NaN</td>\n",
              "      <td>NaN</td>\n",
              "      <td>4496</td>\n",
              "      <td>NaN</td>\n",
              "      <td>1488</td>\n",
              "      <td>730</td>\n",
              "      <td>16879</td>\n",
              "      <td>2512</td>\n",
              "      <td>11865</td>\n",
              "      <td>11413</td>\n",
              "      <td>NaN</td>\n",
              "      <td>NaN</td>\n",
              "      <td>NaN</td>\n",
              "      <td>NaN</td>\n",
              "      <td>NaN</td>\n",
              "      <td>NaN</td>\n",
              "      <td>NaN</td>\n",
              "    </tr>\n",
              "    <tr>\n",
              "      <th>mean</th>\n",
              "      <td>8690.0000</td>\n",
              "      <td>2012-01-02 04:08:34.552045568</td>\n",
              "      <td>NaN</td>\n",
              "      <td>2011.502561</td>\n",
              "      <td>NaN</td>\n",
              "      <td>NaN</td>\n",
              "      <td>NaN</td>\n",
              "      <td>NaN</td>\n",
              "      <td>NaN</td>\n",
              "      <td>NaN</td>\n",
              "      <td>0.496987</td>\n",
              "      <td>0.475775</td>\n",
              "      <td>0.627229</td>\n",
              "      <td>0.190098</td>\n",
              "      <td>35.676218</td>\n",
              "      <td>153.786869</td>\n",
              "      <td>189.463088</td>\n",
              "    </tr>\n",
              "    <tr>\n",
              "      <th>min</th>\n",
              "      <td>1.0000</td>\n",
              "      <td>2011-01-01 00:00:00</td>\n",
              "      <td>NaN</td>\n",
              "      <td>2011.000000</td>\n",
              "      <td>NaN</td>\n",
              "      <td>NaN</td>\n",
              "      <td>NaN</td>\n",
              "      <td>NaN</td>\n",
              "      <td>NaN</td>\n",
              "      <td>NaN</td>\n",
              "      <td>0.020000</td>\n",
              "      <td>0.000000</td>\n",
              "      <td>0.000000</td>\n",
              "      <td>0.000000</td>\n",
              "      <td>0.000000</td>\n",
              "      <td>0.000000</td>\n",
              "      <td>1.000000</td>\n",
              "    </tr>\n",
              "    <tr>\n",
              "      <th>25%</th>\n",
              "      <td>4345.5000</td>\n",
              "      <td>2011-07-04 00:00:00</td>\n",
              "      <td>NaN</td>\n",
              "      <td>2011.000000</td>\n",
              "      <td>NaN</td>\n",
              "      <td>NaN</td>\n",
              "      <td>NaN</td>\n",
              "      <td>NaN</td>\n",
              "      <td>NaN</td>\n",
              "      <td>NaN</td>\n",
              "      <td>0.340000</td>\n",
              "      <td>0.333300</td>\n",
              "      <td>0.480000</td>\n",
              "      <td>0.104500</td>\n",
              "      <td>4.000000</td>\n",
              "      <td>34.000000</td>\n",
              "      <td>40.000000</td>\n",
              "    </tr>\n",
              "    <tr>\n",
              "      <th>50%</th>\n",
              "      <td>8690.0000</td>\n",
              "      <td>2012-01-02 00:00:00</td>\n",
              "      <td>NaN</td>\n",
              "      <td>2012.000000</td>\n",
              "      <td>NaN</td>\n",
              "      <td>NaN</td>\n",
              "      <td>NaN</td>\n",
              "      <td>NaN</td>\n",
              "      <td>NaN</td>\n",
              "      <td>NaN</td>\n",
              "      <td>0.500000</td>\n",
              "      <td>0.484800</td>\n",
              "      <td>0.630000</td>\n",
              "      <td>0.194000</td>\n",
              "      <td>17.000000</td>\n",
              "      <td>115.000000</td>\n",
              "      <td>142.000000</td>\n",
              "    </tr>\n",
              "    <tr>\n",
              "      <th>75%</th>\n",
              "      <td>13034.5000</td>\n",
              "      <td>2012-07-02 00:00:00</td>\n",
              "      <td>NaN</td>\n",
              "      <td>2012.000000</td>\n",
              "      <td>NaN</td>\n",
              "      <td>NaN</td>\n",
              "      <td>NaN</td>\n",
              "      <td>NaN</td>\n",
              "      <td>NaN</td>\n",
              "      <td>NaN</td>\n",
              "      <td>0.660000</td>\n",
              "      <td>0.621200</td>\n",
              "      <td>0.780000</td>\n",
              "      <td>0.253700</td>\n",
              "      <td>48.000000</td>\n",
              "      <td>220.000000</td>\n",
              "      <td>281.000000</td>\n",
              "    </tr>\n",
              "    <tr>\n",
              "      <th>max</th>\n",
              "      <td>17379.0000</td>\n",
              "      <td>2012-12-31 00:00:00</td>\n",
              "      <td>NaN</td>\n",
              "      <td>2012.000000</td>\n",
              "      <td>NaN</td>\n",
              "      <td>NaN</td>\n",
              "      <td>NaN</td>\n",
              "      <td>NaN</td>\n",
              "      <td>NaN</td>\n",
              "      <td>NaN</td>\n",
              "      <td>1.000000</td>\n",
              "      <td>1.000000</td>\n",
              "      <td>1.000000</td>\n",
              "      <td>0.850700</td>\n",
              "      <td>367.000000</td>\n",
              "      <td>886.000000</td>\n",
              "      <td>977.000000</td>\n",
              "    </tr>\n",
              "    <tr>\n",
              "      <th>std</th>\n",
              "      <td>5017.0295</td>\n",
              "      <td>NaN</td>\n",
              "      <td>NaN</td>\n",
              "      <td>0.500008</td>\n",
              "      <td>NaN</td>\n",
              "      <td>NaN</td>\n",
              "      <td>NaN</td>\n",
              "      <td>NaN</td>\n",
              "      <td>NaN</td>\n",
              "      <td>NaN</td>\n",
              "      <td>0.192556</td>\n",
              "      <td>0.171850</td>\n",
              "      <td>0.192930</td>\n",
              "      <td>0.122340</td>\n",
              "      <td>49.305030</td>\n",
              "      <td>151.357286</td>\n",
              "      <td>181.387599</td>\n",
              "    </tr>\n",
              "  </tbody>\n",
              "</table>\n",
              "</div>"
            ],
            "text/plain": [
              "           instant                         dteday season          year  month  \\\n",
              "count   17379.0000                          17379  17379  17379.000000  17379   \n",
              "unique         NaN                            NaN      4           NaN     12   \n",
              "top            NaN                            NaN   Fall           NaN   July   \n",
              "freq           NaN                            NaN   4496           NaN   1488   \n",
              "mean     8690.0000  2012-01-02 04:08:34.552045568    NaN   2011.502561    NaN   \n",
              "min         1.0000            2011-01-01 00:00:00    NaN   2011.000000    NaN   \n",
              "25%      4345.5000            2011-07-04 00:00:00    NaN   2011.000000    NaN   \n",
              "50%      8690.0000            2012-01-02 00:00:00    NaN   2012.000000    NaN   \n",
              "75%     13034.5000            2012-07-02 00:00:00    NaN   2012.000000    NaN   \n",
              "max     17379.0000            2012-12-31 00:00:00    NaN   2012.000000    NaN   \n",
              "std      5017.0295                            NaN    NaN      0.500008    NaN   \n",
              "\n",
              "            hour holiday   weekday workingday           weather          temp  \\\n",
              "count      17379   17379     17379      17379             17379  17379.000000   \n",
              "unique        24       2         7          2                 4           NaN   \n",
              "top     16:00:00   False  Saturday       True  Clear/Few Clouds           NaN   \n",
              "freq         730   16879      2512      11865             11413           NaN   \n",
              "mean         NaN     NaN       NaN        NaN               NaN      0.496987   \n",
              "min          NaN     NaN       NaN        NaN               NaN      0.020000   \n",
              "25%          NaN     NaN       NaN        NaN               NaN      0.340000   \n",
              "50%          NaN     NaN       NaN        NaN               NaN      0.500000   \n",
              "75%          NaN     NaN       NaN        NaN               NaN      0.660000   \n",
              "max          NaN     NaN       NaN        NaN               NaN      1.000000   \n",
              "std          NaN     NaN       NaN        NaN               NaN      0.192556   \n",
              "\n",
              "               atemp      humidity     windspeed        casual    registered  \\\n",
              "count   17379.000000  17379.000000  17379.000000  17379.000000  17379.000000   \n",
              "unique           NaN           NaN           NaN           NaN           NaN   \n",
              "top              NaN           NaN           NaN           NaN           NaN   \n",
              "freq             NaN           NaN           NaN           NaN           NaN   \n",
              "mean        0.475775      0.627229      0.190098     35.676218    153.786869   \n",
              "min         0.000000      0.000000      0.000000      0.000000      0.000000   \n",
              "25%         0.333300      0.480000      0.104500      4.000000     34.000000   \n",
              "50%         0.484800      0.630000      0.194000     17.000000    115.000000   \n",
              "75%         0.621200      0.780000      0.253700     48.000000    220.000000   \n",
              "max         1.000000      1.000000      0.850700    367.000000    886.000000   \n",
              "std         0.171850      0.192930      0.122340     49.305030    151.357286   \n",
              "\n",
              "               count  \n",
              "count   17379.000000  \n",
              "unique           NaN  \n",
              "top              NaN  \n",
              "freq             NaN  \n",
              "mean      189.463088  \n",
              "min         1.000000  \n",
              "25%        40.000000  \n",
              "50%       142.000000  \n",
              "75%       281.000000  \n",
              "max       977.000000  \n",
              "std       181.387599  "
            ]
          },
          "execution_count": 22,
          "metadata": {},
          "output_type": "execute_result"
        }
      ],
      "source": [
        "df.describe(include='all')"
      ]
    },
    {
      "cell_type": "code",
      "execution_count": 23,
      "metadata": {},
      "outputs": [
        {
          "data": {
            "text/plain": [
              "True"
            ]
          },
          "execution_count": 23,
          "metadata": {},
          "output_type": "execute_result"
        }
      ],
      "source": [
        "df.instant.is_unique"
      ]
    },
    {
      "cell_type": "code",
      "execution_count": 24,
      "metadata": {},
      "outputs": [
        {
          "data": {
            "application/vnd.microsoft.datawrangler.viewer.v0+json": {
              "columns": [
                {
                  "name": "year",
                  "rawType": "int32",
                  "type": "integer"
                },
                {
                  "name": "('casual', 'sum')",
                  "rawType": "int64",
                  "type": "integer"
                },
                {
                  "name": "('casual', 'min')",
                  "rawType": "int64",
                  "type": "integer"
                },
                {
                  "name": "('casual', 'max')",
                  "rawType": "int64",
                  "type": "integer"
                },
                {
                  "name": "('casual', 'mean')",
                  "rawType": "float64",
                  "type": "float"
                },
                {
                  "name": "('casual', 'std')",
                  "rawType": "float64",
                  "type": "float"
                },
                {
                  "name": "('registered', 'sum')",
                  "rawType": "int64",
                  "type": "integer"
                },
                {
                  "name": "('registered', 'min')",
                  "rawType": "int64",
                  "type": "integer"
                },
                {
                  "name": "('registered', 'max')",
                  "rawType": "int64",
                  "type": "integer"
                },
                {
                  "name": "('registered', 'mean')",
                  "rawType": "float64",
                  "type": "float"
                },
                {
                  "name": "('registered', 'std')",
                  "rawType": "float64",
                  "type": "float"
                }
              ],
              "conversionMethod": "pd.DataFrame",
              "ref": "75aadc5f-7aa3-401e-a2f3-23960560ac0d",
              "rows": [
                [
                  "2011",
                  "247252",
                  "0",
                  "272",
                  "28.60057836899942",
                  "38.840788759808255",
                  "995851",
                  "0",
                  "567",
                  "115.19386928860614",
                  "109.46101444308769"
                ],
                [
                  "2012",
                  "372765",
                  "0",
                  "367",
                  "42.67975727043737",
                  "56.97041333083274",
                  "1676811",
                  "0",
                  "886",
                  "191.98660407602472",
                  "175.48163668340234"
                ]
              ],
              "shape": {
                "columns": 10,
                "rows": 2
              }
            },
            "text/html": [
              "<div>\n",
              "<style scoped>\n",
              "    .dataframe tbody tr th:only-of-type {\n",
              "        vertical-align: middle;\n",
              "    }\n",
              "\n",
              "    .dataframe tbody tr th {\n",
              "        vertical-align: top;\n",
              "    }\n",
              "\n",
              "    .dataframe thead tr th {\n",
              "        text-align: left;\n",
              "    }\n",
              "\n",
              "    .dataframe thead tr:last-of-type th {\n",
              "        text-align: right;\n",
              "    }\n",
              "</style>\n",
              "<table border=\"1\" class=\"dataframe\">\n",
              "  <thead>\n",
              "    <tr>\n",
              "      <th></th>\n",
              "      <th colspan=\"5\" halign=\"left\">casual</th>\n",
              "      <th colspan=\"5\" halign=\"left\">registered</th>\n",
              "    </tr>\n",
              "    <tr>\n",
              "      <th></th>\n",
              "      <th>sum</th>\n",
              "      <th>min</th>\n",
              "      <th>max</th>\n",
              "      <th>mean</th>\n",
              "      <th>std</th>\n",
              "      <th>sum</th>\n",
              "      <th>min</th>\n",
              "      <th>max</th>\n",
              "      <th>mean</th>\n",
              "      <th>std</th>\n",
              "    </tr>\n",
              "    <tr>\n",
              "      <th>year</th>\n",
              "      <th></th>\n",
              "      <th></th>\n",
              "      <th></th>\n",
              "      <th></th>\n",
              "      <th></th>\n",
              "      <th></th>\n",
              "      <th></th>\n",
              "      <th></th>\n",
              "      <th></th>\n",
              "      <th></th>\n",
              "    </tr>\n",
              "  </thead>\n",
              "  <tbody>\n",
              "    <tr>\n",
              "      <th>2011</th>\n",
              "      <td>247252</td>\n",
              "      <td>0</td>\n",
              "      <td>272</td>\n",
              "      <td>28.600578</td>\n",
              "      <td>38.840789</td>\n",
              "      <td>995851</td>\n",
              "      <td>0</td>\n",
              "      <td>567</td>\n",
              "      <td>115.193869</td>\n",
              "      <td>109.461014</td>\n",
              "    </tr>\n",
              "    <tr>\n",
              "      <th>2012</th>\n",
              "      <td>372765</td>\n",
              "      <td>0</td>\n",
              "      <td>367</td>\n",
              "      <td>42.679757</td>\n",
              "      <td>56.970413</td>\n",
              "      <td>1676811</td>\n",
              "      <td>0</td>\n",
              "      <td>886</td>\n",
              "      <td>191.986604</td>\n",
              "      <td>175.481637</td>\n",
              "    </tr>\n",
              "  </tbody>\n",
              "</table>\n",
              "</div>"
            ],
            "text/plain": [
              "      casual                                registered                       \\\n",
              "         sum min  max       mean        std        sum min  max        mean   \n",
              "year                                                                          \n",
              "2011  247252   0  272  28.600578  38.840789     995851   0  567  115.193869   \n",
              "2012  372765   0  367  42.679757  56.970413    1676811   0  886  191.986604   \n",
              "\n",
              "                  \n",
              "             std  \n",
              "year              \n",
              "2011  109.461014  \n",
              "2012  175.481637  "
            ]
          },
          "execution_count": 24,
          "metadata": {},
          "output_type": "execute_result"
        }
      ],
      "source": [
        "df.groupby(['year']).agg({\n",
        "    'casual': ['sum', 'min', 'max', 'mean', 'std'],\n",
        "    'registered': ['sum', 'min', 'max', 'mean', 'std']})"
      ]
    },
    {
      "cell_type": "code",
      "execution_count": 25,
      "metadata": {},
      "outputs": [
        {
          "data": {
            "application/vnd.microsoft.datawrangler.viewer.v0+json": {
              "columns": [
                {
                  "name": "('year', 'season')",
                  "rawType": "object",
                  "type": "unknown"
                },
                {
                  "name": "('instant', 'nunique')",
                  "rawType": "int64",
                  "type": "integer"
                },
                {
                  "name": "('count', 'sum')",
                  "rawType": "int64",
                  "type": "integer"
                },
                {
                  "name": "('count', 'min')",
                  "rawType": "int64",
                  "type": "integer"
                },
                {
                  "name": "('count', 'max')",
                  "rawType": "int64",
                  "type": "integer"
                },
                {
                  "name": "('count', 'mean')",
                  "rawType": "float64",
                  "type": "float"
                },
                {
                  "name": "('count', 'std')",
                  "rawType": "float64",
                  "type": "float"
                }
              ],
              "conversionMethod": "pd.DataFrame",
              "ref": "ddf0e0ad-2f75-41a0-b406-6b3975236adf",
              "rows": [
                [
                  "(np.int32(2011), 'Fall')",
                  "2240",
                  "419650",
                  "1",
                  "651",
                  "187.34375",
                  "149.35221941943612"
                ],
                [
                  "(np.int32(2011), 'Spring')",
                  "2068",
                  "150000",
                  "1",
                  "405",
                  "72.5338491295938",
                  "67.44795205462"
                ],
                [
                  "(np.int32(2011), 'Summer')",
                  "2203",
                  "347316",
                  "1",
                  "638",
                  "157.65592374035407",
                  "138.42163206822173"
                ],
                [
                  "(np.int32(2011), 'Winter')",
                  "2134",
                  "326137",
                  "1",
                  "625",
                  "152.82895970009372",
                  "133.22507660435235"
                ],
                [
                  "(np.int32(2012), 'Fall')",
                  "2256",
                  "641479",
                  "2",
                  "977",
                  "284.34352836879435",
                  "226.01354939027118"
                ],
                [
                  "(np.int32(2012), 'Spring')",
                  "2174",
                  "321348",
                  "1",
                  "801",
                  "147.81416743330266",
                  "143.70297593960697"
                ],
                [
                  "(np.int32(2012), 'Summer')",
                  "2206",
                  "571273",
                  "1",
                  "957",
                  "258.96328195829557",
                  "216.01795510516735"
                ],
                [
                  "(np.int32(2012), 'Winter')",
                  "2098",
                  "515476",
                  "1",
                  "967",
                  "245.69876072449952",
                  "212.4628381955416"
                ]
              ],
              "shape": {
                "columns": 6,
                "rows": 8
              }
            },
            "text/html": [
              "<div>\n",
              "<style scoped>\n",
              "    .dataframe tbody tr th:only-of-type {\n",
              "        vertical-align: middle;\n",
              "    }\n",
              "\n",
              "    .dataframe tbody tr th {\n",
              "        vertical-align: top;\n",
              "    }\n",
              "\n",
              "    .dataframe thead tr th {\n",
              "        text-align: left;\n",
              "    }\n",
              "\n",
              "    .dataframe thead tr:last-of-type th {\n",
              "        text-align: right;\n",
              "    }\n",
              "</style>\n",
              "<table border=\"1\" class=\"dataframe\">\n",
              "  <thead>\n",
              "    <tr>\n",
              "      <th></th>\n",
              "      <th></th>\n",
              "      <th>instant</th>\n",
              "      <th colspan=\"5\" halign=\"left\">count</th>\n",
              "    </tr>\n",
              "    <tr>\n",
              "      <th></th>\n",
              "      <th></th>\n",
              "      <th>nunique</th>\n",
              "      <th>sum</th>\n",
              "      <th>min</th>\n",
              "      <th>max</th>\n",
              "      <th>mean</th>\n",
              "      <th>std</th>\n",
              "    </tr>\n",
              "    <tr>\n",
              "      <th>year</th>\n",
              "      <th>season</th>\n",
              "      <th></th>\n",
              "      <th></th>\n",
              "      <th></th>\n",
              "      <th></th>\n",
              "      <th></th>\n",
              "      <th></th>\n",
              "    </tr>\n",
              "  </thead>\n",
              "  <tbody>\n",
              "    <tr>\n",
              "      <th rowspan=\"4\" valign=\"top\">2011</th>\n",
              "      <th>Fall</th>\n",
              "      <td>2240</td>\n",
              "      <td>419650</td>\n",
              "      <td>1</td>\n",
              "      <td>651</td>\n",
              "      <td>187.343750</td>\n",
              "      <td>149.352219</td>\n",
              "    </tr>\n",
              "    <tr>\n",
              "      <th>Spring</th>\n",
              "      <td>2068</td>\n",
              "      <td>150000</td>\n",
              "      <td>1</td>\n",
              "      <td>405</td>\n",
              "      <td>72.533849</td>\n",
              "      <td>67.447952</td>\n",
              "    </tr>\n",
              "    <tr>\n",
              "      <th>Summer</th>\n",
              "      <td>2203</td>\n",
              "      <td>347316</td>\n",
              "      <td>1</td>\n",
              "      <td>638</td>\n",
              "      <td>157.655924</td>\n",
              "      <td>138.421632</td>\n",
              "    </tr>\n",
              "    <tr>\n",
              "      <th>Winter</th>\n",
              "      <td>2134</td>\n",
              "      <td>326137</td>\n",
              "      <td>1</td>\n",
              "      <td>625</td>\n",
              "      <td>152.828960</td>\n",
              "      <td>133.225077</td>\n",
              "    </tr>\n",
              "    <tr>\n",
              "      <th rowspan=\"4\" valign=\"top\">2012</th>\n",
              "      <th>Fall</th>\n",
              "      <td>2256</td>\n",
              "      <td>641479</td>\n",
              "      <td>2</td>\n",
              "      <td>977</td>\n",
              "      <td>284.343528</td>\n",
              "      <td>226.013549</td>\n",
              "    </tr>\n",
              "    <tr>\n",
              "      <th>Spring</th>\n",
              "      <td>2174</td>\n",
              "      <td>321348</td>\n",
              "      <td>1</td>\n",
              "      <td>801</td>\n",
              "      <td>147.814167</td>\n",
              "      <td>143.702976</td>\n",
              "    </tr>\n",
              "    <tr>\n",
              "      <th>Summer</th>\n",
              "      <td>2206</td>\n",
              "      <td>571273</td>\n",
              "      <td>1</td>\n",
              "      <td>957</td>\n",
              "      <td>258.963282</td>\n",
              "      <td>216.017955</td>\n",
              "    </tr>\n",
              "    <tr>\n",
              "      <th>Winter</th>\n",
              "      <td>2098</td>\n",
              "      <td>515476</td>\n",
              "      <td>1</td>\n",
              "      <td>967</td>\n",
              "      <td>245.698761</td>\n",
              "      <td>212.462838</td>\n",
              "    </tr>\n",
              "  </tbody>\n",
              "</table>\n",
              "</div>"
            ],
            "text/plain": [
              "            instant   count                                 \n",
              "            nunique     sum min  max        mean         std\n",
              "year season                                                 \n",
              "2011 Fall      2240  419650   1  651  187.343750  149.352219\n",
              "     Spring    2068  150000   1  405   72.533849   67.447952\n",
              "     Summer    2203  347316   1  638  157.655924  138.421632\n",
              "     Winter    2134  326137   1  625  152.828960  133.225077\n",
              "2012 Fall      2256  641479   2  977  284.343528  226.013549\n",
              "     Spring    2174  321348   1  801  147.814167  143.702976\n",
              "     Summer    2206  571273   1  957  258.963282  216.017955\n",
              "     Winter    2098  515476   1  967  245.698761  212.462838"
            ]
          },
          "execution_count": 25,
          "metadata": {},
          "output_type": "execute_result"
        }
      ],
      "source": [
        "df.groupby(['year', 'season']).agg({\n",
        "    'instant': 'nunique',\n",
        "    'count': ['sum', 'min', 'max', 'mean', 'std']})"
      ]
    },
    {
      "cell_type": "code",
      "execution_count": 26,
      "metadata": {},
      "outputs": [
        {
          "data": {
            "application/vnd.microsoft.datawrangler.viewer.v0+json": {
              "columns": [
                {
                  "name": "('year', 'weather')",
                  "rawType": "object",
                  "type": "unknown"
                },
                {
                  "name": "('instant', 'nunique')",
                  "rawType": "int64",
                  "type": "integer"
                },
                {
                  "name": "('count', 'sum')",
                  "rawType": "int64",
                  "type": "integer"
                },
                {
                  "name": "('count', 'min')",
                  "rawType": "int64",
                  "type": "integer"
                },
                {
                  "name": "('count', 'max')",
                  "rawType": "int64",
                  "type": "integer"
                },
                {
                  "name": "('count', 'mean')",
                  "rawType": "float64",
                  "type": "float"
                },
                {
                  "name": "('count', 'std')",
                  "rawType": "float64",
                  "type": "float"
                }
              ],
              "conversionMethod": "pd.DataFrame",
              "ref": "4d49ba48-848b-4dd2-8d0b-14fe3341d06a",
              "rows": [
                [
                  "(np.int32(2011), 'Clear/Few Clouds')",
                  "5645",
                  "875053",
                  "1",
                  "651",
                  "155.01381753764394",
                  "140.02982301204244"
                ],
                [
                  "(np.int32(2011), 'Heavy Rain/Snow')",
                  "1",
                  "36",
                  "36",
                  "36",
                  "36.0",
                  null
                ],
                [
                  "(np.int32(2011), 'Light Snow/Rain')",
                  "781",
                  "67495",
                  "1",
                  "579",
                  "86.42125480153649",
                  "102.75113329695239"
                ],
                [
                  "(np.int32(2011), 'Mist/Cloudy')",
                  "2218",
                  "300519",
                  "1",
                  "604",
                  "135.49098286744814",
                  "120.87711754537789"
                ],
                [
                  "(np.int32(2012), 'Clear/Few Clouds')",
                  "5768",
                  "1463120",
                  "1",
                  "977",
                  "253.6615811373093",
                  "216.9041916824308"
                ],
                [
                  "(np.int32(2012), 'Heavy Rain/Snow')",
                  "2",
                  "187",
                  "23",
                  "164",
                  "93.5",
                  "99.7020561473032"
                ],
                [
                  "(np.int32(2012), 'Light Snow/Rain')",
                  "638",
                  "90836",
                  "1",
                  "891",
                  "142.37617554858934",
                  "158.70334933225348"
                ],
                [
                  "(np.int32(2012), 'Mist/Cloudy')",
                  "2326",
                  "495433",
                  "1",
                  "957",
                  "212.99785038693037",
                  "191.33644183446015"
                ]
              ],
              "shape": {
                "columns": 6,
                "rows": 8
              }
            },
            "text/html": [
              "<div>\n",
              "<style scoped>\n",
              "    .dataframe tbody tr th:only-of-type {\n",
              "        vertical-align: middle;\n",
              "    }\n",
              "\n",
              "    .dataframe tbody tr th {\n",
              "        vertical-align: top;\n",
              "    }\n",
              "\n",
              "    .dataframe thead tr th {\n",
              "        text-align: left;\n",
              "    }\n",
              "\n",
              "    .dataframe thead tr:last-of-type th {\n",
              "        text-align: right;\n",
              "    }\n",
              "</style>\n",
              "<table border=\"1\" class=\"dataframe\">\n",
              "  <thead>\n",
              "    <tr>\n",
              "      <th></th>\n",
              "      <th></th>\n",
              "      <th>instant</th>\n",
              "      <th colspan=\"5\" halign=\"left\">count</th>\n",
              "    </tr>\n",
              "    <tr>\n",
              "      <th></th>\n",
              "      <th></th>\n",
              "      <th>nunique</th>\n",
              "      <th>sum</th>\n",
              "      <th>min</th>\n",
              "      <th>max</th>\n",
              "      <th>mean</th>\n",
              "      <th>std</th>\n",
              "    </tr>\n",
              "    <tr>\n",
              "      <th>year</th>\n",
              "      <th>weather</th>\n",
              "      <th></th>\n",
              "      <th></th>\n",
              "      <th></th>\n",
              "      <th></th>\n",
              "      <th></th>\n",
              "      <th></th>\n",
              "    </tr>\n",
              "  </thead>\n",
              "  <tbody>\n",
              "    <tr>\n",
              "      <th rowspan=\"4\" valign=\"top\">2011</th>\n",
              "      <th>Clear/Few Clouds</th>\n",
              "      <td>5645</td>\n",
              "      <td>875053</td>\n",
              "      <td>1</td>\n",
              "      <td>651</td>\n",
              "      <td>155.013818</td>\n",
              "      <td>140.029823</td>\n",
              "    </tr>\n",
              "    <tr>\n",
              "      <th>Heavy Rain/Snow</th>\n",
              "      <td>1</td>\n",
              "      <td>36</td>\n",
              "      <td>36</td>\n",
              "      <td>36</td>\n",
              "      <td>36.000000</td>\n",
              "      <td>NaN</td>\n",
              "    </tr>\n",
              "    <tr>\n",
              "      <th>Light Snow/Rain</th>\n",
              "      <td>781</td>\n",
              "      <td>67495</td>\n",
              "      <td>1</td>\n",
              "      <td>579</td>\n",
              "      <td>86.421255</td>\n",
              "      <td>102.751133</td>\n",
              "    </tr>\n",
              "    <tr>\n",
              "      <th>Mist/Cloudy</th>\n",
              "      <td>2218</td>\n",
              "      <td>300519</td>\n",
              "      <td>1</td>\n",
              "      <td>604</td>\n",
              "      <td>135.490983</td>\n",
              "      <td>120.877118</td>\n",
              "    </tr>\n",
              "    <tr>\n",
              "      <th rowspan=\"4\" valign=\"top\">2012</th>\n",
              "      <th>Clear/Few Clouds</th>\n",
              "      <td>5768</td>\n",
              "      <td>1463120</td>\n",
              "      <td>1</td>\n",
              "      <td>977</td>\n",
              "      <td>253.661581</td>\n",
              "      <td>216.904192</td>\n",
              "    </tr>\n",
              "    <tr>\n",
              "      <th>Heavy Rain/Snow</th>\n",
              "      <td>2</td>\n",
              "      <td>187</td>\n",
              "      <td>23</td>\n",
              "      <td>164</td>\n",
              "      <td>93.500000</td>\n",
              "      <td>99.702056</td>\n",
              "    </tr>\n",
              "    <tr>\n",
              "      <th>Light Snow/Rain</th>\n",
              "      <td>638</td>\n",
              "      <td>90836</td>\n",
              "      <td>1</td>\n",
              "      <td>891</td>\n",
              "      <td>142.376176</td>\n",
              "      <td>158.703349</td>\n",
              "    </tr>\n",
              "    <tr>\n",
              "      <th>Mist/Cloudy</th>\n",
              "      <td>2326</td>\n",
              "      <td>495433</td>\n",
              "      <td>1</td>\n",
              "      <td>957</td>\n",
              "      <td>212.997850</td>\n",
              "      <td>191.336442</td>\n",
              "    </tr>\n",
              "  </tbody>\n",
              "</table>\n",
              "</div>"
            ],
            "text/plain": [
              "                      instant    count                                 \n",
              "                      nunique      sum min  max        mean         std\n",
              "year weather                                                           \n",
              "2011 Clear/Few Clouds    5645   875053   1  651  155.013818  140.029823\n",
              "     Heavy Rain/Snow        1       36  36   36   36.000000         NaN\n",
              "     Light Snow/Rain      781    67495   1  579   86.421255  102.751133\n",
              "     Mist/Cloudy         2218   300519   1  604  135.490983  120.877118\n",
              "2012 Clear/Few Clouds    5768  1463120   1  977  253.661581  216.904192\n",
              "     Heavy Rain/Snow        2      187  23  164   93.500000   99.702056\n",
              "     Light Snow/Rain      638    90836   1  891  142.376176  158.703349\n",
              "     Mist/Cloudy         2326   495433   1  957  212.997850  191.336442"
            ]
          },
          "execution_count": 26,
          "metadata": {},
          "output_type": "execute_result"
        }
      ],
      "source": [
        "df.groupby(['year', 'weather']).agg({\n",
        "    'instant': 'nunique',\n",
        "    'count': ['sum', 'min', 'max', 'mean', 'std']})"
      ]
    },
    {
      "cell_type": "code",
      "execution_count": 27,
      "metadata": {},
      "outputs": [
        {
          "data": {
            "application/vnd.microsoft.datawrangler.viewer.v0+json": {
              "columns": [
                {
                  "name": "('year', 'holiday')",
                  "rawType": "object",
                  "type": "unknown"
                },
                {
                  "name": "('instant', 'nunique')",
                  "rawType": "int64",
                  "type": "integer"
                },
                {
                  "name": "('count', 'sum')",
                  "rawType": "int64",
                  "type": "integer"
                },
                {
                  "name": "('count', 'min')",
                  "rawType": "int64",
                  "type": "integer"
                },
                {
                  "name": "('count', 'max')",
                  "rawType": "int64",
                  "type": "integer"
                },
                {
                  "name": "('count', 'mean')",
                  "rawType": "float64",
                  "type": "float"
                },
                {
                  "name": "('count', 'std')",
                  "rawType": "float64",
                  "type": "float"
                }
              ],
              "conversionMethod": "pd.DataFrame",
              "ref": "2ef4cf65-7a17-4180-a4fd-3710952e0b2f",
              "rows": [
                [
                  "(np.int32(2011), np.False_)",
                  "8406",
                  "1213081",
                  "1",
                  "651",
                  "144.31132524387343",
                  "133.99323691361664"
                ],
                [
                  "(np.int32(2011), np.True_)",
                  "239",
                  "30022",
                  "1",
                  "473",
                  "125.61506276150628",
                  "125.65038506888162"
                ],
                [
                  "(np.int32(2012), np.False_)",
                  "8473",
                  "2001163",
                  "1",
                  "977",
                  "236.18116369644753",
                  "209.66762415703562"
                ],
                [
                  "(np.int32(2012), np.True_)",
                  "261",
                  "48413",
                  "1",
                  "712",
                  "185.4904214559387",
                  "176.03613293925287"
                ]
              ],
              "shape": {
                "columns": 6,
                "rows": 4
              }
            },
            "text/html": [
              "<div>\n",
              "<style scoped>\n",
              "    .dataframe tbody tr th:only-of-type {\n",
              "        vertical-align: middle;\n",
              "    }\n",
              "\n",
              "    .dataframe tbody tr th {\n",
              "        vertical-align: top;\n",
              "    }\n",
              "\n",
              "    .dataframe thead tr th {\n",
              "        text-align: left;\n",
              "    }\n",
              "\n",
              "    .dataframe thead tr:last-of-type th {\n",
              "        text-align: right;\n",
              "    }\n",
              "</style>\n",
              "<table border=\"1\" class=\"dataframe\">\n",
              "  <thead>\n",
              "    <tr>\n",
              "      <th></th>\n",
              "      <th></th>\n",
              "      <th>instant</th>\n",
              "      <th colspan=\"5\" halign=\"left\">count</th>\n",
              "    </tr>\n",
              "    <tr>\n",
              "      <th></th>\n",
              "      <th></th>\n",
              "      <th>nunique</th>\n",
              "      <th>sum</th>\n",
              "      <th>min</th>\n",
              "      <th>max</th>\n",
              "      <th>mean</th>\n",
              "      <th>std</th>\n",
              "    </tr>\n",
              "    <tr>\n",
              "      <th>year</th>\n",
              "      <th>holiday</th>\n",
              "      <th></th>\n",
              "      <th></th>\n",
              "      <th></th>\n",
              "      <th></th>\n",
              "      <th></th>\n",
              "      <th></th>\n",
              "    </tr>\n",
              "  </thead>\n",
              "  <tbody>\n",
              "    <tr>\n",
              "      <th rowspan=\"2\" valign=\"top\">2011</th>\n",
              "      <th>False</th>\n",
              "      <td>8406</td>\n",
              "      <td>1213081</td>\n",
              "      <td>1</td>\n",
              "      <td>651</td>\n",
              "      <td>144.311325</td>\n",
              "      <td>133.993237</td>\n",
              "    </tr>\n",
              "    <tr>\n",
              "      <th>True</th>\n",
              "      <td>239</td>\n",
              "      <td>30022</td>\n",
              "      <td>1</td>\n",
              "      <td>473</td>\n",
              "      <td>125.615063</td>\n",
              "      <td>125.650385</td>\n",
              "    </tr>\n",
              "    <tr>\n",
              "      <th rowspan=\"2\" valign=\"top\">2012</th>\n",
              "      <th>False</th>\n",
              "      <td>8473</td>\n",
              "      <td>2001163</td>\n",
              "      <td>1</td>\n",
              "      <td>977</td>\n",
              "      <td>236.181164</td>\n",
              "      <td>209.667624</td>\n",
              "    </tr>\n",
              "    <tr>\n",
              "      <th>True</th>\n",
              "      <td>261</td>\n",
              "      <td>48413</td>\n",
              "      <td>1</td>\n",
              "      <td>712</td>\n",
              "      <td>185.490421</td>\n",
              "      <td>176.036133</td>\n",
              "    </tr>\n",
              "  </tbody>\n",
              "</table>\n",
              "</div>"
            ],
            "text/plain": [
              "             instant    count                                 \n",
              "             nunique      sum min  max        mean         std\n",
              "year holiday                                                  \n",
              "2011 False      8406  1213081   1  651  144.311325  133.993237\n",
              "     True        239    30022   1  473  125.615063  125.650385\n",
              "2012 False      8473  2001163   1  977  236.181164  209.667624\n",
              "     True        261    48413   1  712  185.490421  176.036133"
            ]
          },
          "execution_count": 27,
          "metadata": {},
          "output_type": "execute_result"
        }
      ],
      "source": [
        "df.groupby(['year', 'holiday']).agg({\n",
        "    'instant': 'nunique',\n",
        "    'count': ['sum', 'min', 'max', 'mean', 'std']})"
      ]
    },
    {
      "cell_type": "code",
      "execution_count": 28,
      "metadata": {},
      "outputs": [
        {
          "data": {
            "application/vnd.microsoft.datawrangler.viewer.v0+json": {
              "columns": [
                {
                  "name": "('year', 'workingday')",
                  "rawType": "object",
                  "type": "unknown"
                },
                {
                  "name": "('instant', 'nunique')",
                  "rawType": "int64",
                  "type": "integer"
                },
                {
                  "name": "('count', 'sum')",
                  "rawType": "int64",
                  "type": "integer"
                },
                {
                  "name": "('count', 'min')",
                  "rawType": "int64",
                  "type": "integer"
                },
                {
                  "name": "('count', 'max')",
                  "rawType": "int64",
                  "type": "integer"
                },
                {
                  "name": "('count', 'mean')",
                  "rawType": "float64",
                  "type": "float"
                },
                {
                  "name": "('count', 'std')",
                  "rawType": "float64",
                  "type": "float"
                }
              ],
              "conversionMethod": "pd.DataFrame",
              "ref": "028e59e5-620c-49f0-a8c4-dffcaef5113e",
              "rows": [
                [
                  "(np.int32(2011), np.False_)",
                  "2734",
                  "386839",
                  "1",
                  "506",
                  "141.4919531821507",
                  "131.16761986723537"
                ],
                [
                  "(np.int32(2011), np.True_)",
                  "5911",
                  "856264",
                  "1",
                  "651",
                  "144.85941465065133",
                  "134.99477722151124"
                ],
                [
                  "(np.int32(2012), np.False_)",
                  "2780",
                  "613430",
                  "1",
                  "783",
                  "220.65827338129498",
                  "198.1017194305748"
                ],
                [
                  "(np.int32(2012), np.True_)",
                  "5954",
                  "1436146",
                  "1",
                  "977",
                  "241.20691971783674",
                  "213.47242344416563"
                ]
              ],
              "shape": {
                "columns": 6,
                "rows": 4
              }
            },
            "text/html": [
              "<div>\n",
              "<style scoped>\n",
              "    .dataframe tbody tr th:only-of-type {\n",
              "        vertical-align: middle;\n",
              "    }\n",
              "\n",
              "    .dataframe tbody tr th {\n",
              "        vertical-align: top;\n",
              "    }\n",
              "\n",
              "    .dataframe thead tr th {\n",
              "        text-align: left;\n",
              "    }\n",
              "\n",
              "    .dataframe thead tr:last-of-type th {\n",
              "        text-align: right;\n",
              "    }\n",
              "</style>\n",
              "<table border=\"1\" class=\"dataframe\">\n",
              "  <thead>\n",
              "    <tr>\n",
              "      <th></th>\n",
              "      <th></th>\n",
              "      <th>instant</th>\n",
              "      <th colspan=\"5\" halign=\"left\">count</th>\n",
              "    </tr>\n",
              "    <tr>\n",
              "      <th></th>\n",
              "      <th></th>\n",
              "      <th>nunique</th>\n",
              "      <th>sum</th>\n",
              "      <th>min</th>\n",
              "      <th>max</th>\n",
              "      <th>mean</th>\n",
              "      <th>std</th>\n",
              "    </tr>\n",
              "    <tr>\n",
              "      <th>year</th>\n",
              "      <th>workingday</th>\n",
              "      <th></th>\n",
              "      <th></th>\n",
              "      <th></th>\n",
              "      <th></th>\n",
              "      <th></th>\n",
              "      <th></th>\n",
              "    </tr>\n",
              "  </thead>\n",
              "  <tbody>\n",
              "    <tr>\n",
              "      <th rowspan=\"2\" valign=\"top\">2011</th>\n",
              "      <th>False</th>\n",
              "      <td>2734</td>\n",
              "      <td>386839</td>\n",
              "      <td>1</td>\n",
              "      <td>506</td>\n",
              "      <td>141.491953</td>\n",
              "      <td>131.167620</td>\n",
              "    </tr>\n",
              "    <tr>\n",
              "      <th>True</th>\n",
              "      <td>5911</td>\n",
              "      <td>856264</td>\n",
              "      <td>1</td>\n",
              "      <td>651</td>\n",
              "      <td>144.859415</td>\n",
              "      <td>134.994777</td>\n",
              "    </tr>\n",
              "    <tr>\n",
              "      <th rowspan=\"2\" valign=\"top\">2012</th>\n",
              "      <th>False</th>\n",
              "      <td>2780</td>\n",
              "      <td>613430</td>\n",
              "      <td>1</td>\n",
              "      <td>783</td>\n",
              "      <td>220.658273</td>\n",
              "      <td>198.101719</td>\n",
              "    </tr>\n",
              "    <tr>\n",
              "      <th>True</th>\n",
              "      <td>5954</td>\n",
              "      <td>1436146</td>\n",
              "      <td>1</td>\n",
              "      <td>977</td>\n",
              "      <td>241.206920</td>\n",
              "      <td>213.472423</td>\n",
              "    </tr>\n",
              "  </tbody>\n",
              "</table>\n",
              "</div>"
            ],
            "text/plain": [
              "                instant    count                                 \n",
              "                nunique      sum min  max        mean         std\n",
              "year workingday                                                  \n",
              "2011 False         2734   386839   1  506  141.491953  131.167620\n",
              "     True          5911   856264   1  651  144.859415  134.994777\n",
              "2012 False         2780   613430   1  783  220.658273  198.101719\n",
              "     True          5954  1436146   1  977  241.206920  213.472423"
            ]
          },
          "execution_count": 28,
          "metadata": {},
          "output_type": "execute_result"
        }
      ],
      "source": [
        "df.groupby(['year', 'workingday']).agg({\n",
        "    'instant': 'nunique',\n",
        "    'count': ['sum', 'min', 'max', 'mean', 'std']})"
      ]
    },
    {
      "cell_type": "code",
      "execution_count": 29,
      "metadata": {},
      "outputs": [
        {
          "data": {
            "application/vnd.microsoft.datawrangler.viewer.v0+json": {
              "columns": [
                {
                  "name": "('year', 'weekday')",
                  "rawType": "object",
                  "type": "unknown"
                },
                {
                  "name": "('instant', 'nunique')",
                  "rawType": "int64",
                  "type": "integer"
                },
                {
                  "name": "('count', 'sum')",
                  "rawType": "int64",
                  "type": "integer"
                },
                {
                  "name": "('count', 'min')",
                  "rawType": "int64",
                  "type": "integer"
                },
                {
                  "name": "('count', 'max')",
                  "rawType": "int64",
                  "type": "integer"
                },
                {
                  "name": "('count', 'mean')",
                  "rawType": "float64",
                  "type": "float"
                },
                {
                  "name": "('count', 'std')",
                  "rawType": "float64",
                  "type": "float"
                }
              ],
              "conversionMethod": "pd.DataFrame",
              "ref": "94c1ab38-4302-4bea-8444-f88ef10d78ba",
              "rows": [
                [
                  "(np.int32(2011), 'Friday')",
                  "1239",
                  "182006",
                  "1",
                  "591",
                  "146.89749798224375",
                  "126.87575487330842"
                ],
                [
                  "(np.int32(2011), 'Monday')",
                  "1235",
                  "180221",
                  "1",
                  "620",
                  "145.92793522267206",
                  "138.03391576465842"
                ],
                [
                  "(np.int32(2011), 'Saturday')",
                  "1264",
                  "179743",
                  "1",
                  "506",
                  "142.20174050632912",
                  "131.73351046724767"
                ],
                [
                  "(np.int32(2011), 'Sunday')",
                  "1231",
                  "177074",
                  "1",
                  "500",
                  "143.84565393988626",
                  "131.52673435078734"
                ],
                [
                  "(np.int32(2011), 'Thursday')",
                  "1225",
                  "174552",
                  "1",
                  "628",
                  "142.49142857142857",
                  "131.48551126722157"
                ],
                [
                  "(np.int32(2011), 'Tuesday')",
                  "1222",
                  "180338",
                  "1",
                  "651",
                  "147.57610474631753",
                  "141.93504882652442"
                ],
                [
                  "(np.int32(2011), 'Wednesday')",
                  "1229",
                  "169169",
                  "1",
                  "638",
                  "137.64768104149715",
                  "134.642234487284"
                ],
                [
                  "(np.int32(2012), 'Friday')",
                  "1248",
                  "305784",
                  "1",
                  "957",
                  "245.01923076923077",
                  "199.07156099786005"
                ],
                [
                  "(np.int32(2012), 'Monday')",
                  "1244",
                  "275282",
                  "1",
                  "968",
                  "221.2877813504823",
                  "206.14641278236763"
                ],
                [
                  "(np.int32(2012), 'Saturday')",
                  "1248",
                  "298064",
                  "1",
                  "783",
                  "238.83333333333334",
                  "206.96129157301297"
                ],
                [
                  "(np.int32(2012), 'Sunday')",
                  "1271",
                  "266953",
                  "1",
                  "776",
                  "210.03383162863886",
                  "191.78312379105472"
                ],
                [
                  "(np.int32(2012), 'Thursday')",
                  "1246",
                  "310843",
                  "1",
                  "976",
                  "249.47271268057784",
                  "217.83909277065385"
                ],
                [
                  "(np.int32(2012), 'Tuesday')",
                  "1231",
                  "288771",
                  "1",
                  "970",
                  "234.58245329000812",
                  "215.75736783054128"
                ],
                [
                  "(np.int32(2012), 'Wednesday')",
                  "1246",
                  "303879",
                  "1",
                  "977",
                  "243.8836276083467",
                  "221.18613456838528"
                ]
              ],
              "shape": {
                "columns": 6,
                "rows": 14
              }
            },
            "text/html": [
              "<div>\n",
              "<style scoped>\n",
              "    .dataframe tbody tr th:only-of-type {\n",
              "        vertical-align: middle;\n",
              "    }\n",
              "\n",
              "    .dataframe tbody tr th {\n",
              "        vertical-align: top;\n",
              "    }\n",
              "\n",
              "    .dataframe thead tr th {\n",
              "        text-align: left;\n",
              "    }\n",
              "\n",
              "    .dataframe thead tr:last-of-type th {\n",
              "        text-align: right;\n",
              "    }\n",
              "</style>\n",
              "<table border=\"1\" class=\"dataframe\">\n",
              "  <thead>\n",
              "    <tr>\n",
              "      <th></th>\n",
              "      <th></th>\n",
              "      <th>instant</th>\n",
              "      <th colspan=\"5\" halign=\"left\">count</th>\n",
              "    </tr>\n",
              "    <tr>\n",
              "      <th></th>\n",
              "      <th></th>\n",
              "      <th>nunique</th>\n",
              "      <th>sum</th>\n",
              "      <th>min</th>\n",
              "      <th>max</th>\n",
              "      <th>mean</th>\n",
              "      <th>std</th>\n",
              "    </tr>\n",
              "    <tr>\n",
              "      <th>year</th>\n",
              "      <th>weekday</th>\n",
              "      <th></th>\n",
              "      <th></th>\n",
              "      <th></th>\n",
              "      <th></th>\n",
              "      <th></th>\n",
              "      <th></th>\n",
              "    </tr>\n",
              "  </thead>\n",
              "  <tbody>\n",
              "    <tr>\n",
              "      <th rowspan=\"7\" valign=\"top\">2011</th>\n",
              "      <th>Friday</th>\n",
              "      <td>1239</td>\n",
              "      <td>182006</td>\n",
              "      <td>1</td>\n",
              "      <td>591</td>\n",
              "      <td>146.897498</td>\n",
              "      <td>126.875755</td>\n",
              "    </tr>\n",
              "    <tr>\n",
              "      <th>Monday</th>\n",
              "      <td>1235</td>\n",
              "      <td>180221</td>\n",
              "      <td>1</td>\n",
              "      <td>620</td>\n",
              "      <td>145.927935</td>\n",
              "      <td>138.033916</td>\n",
              "    </tr>\n",
              "    <tr>\n",
              "      <th>Saturday</th>\n",
              "      <td>1264</td>\n",
              "      <td>179743</td>\n",
              "      <td>1</td>\n",
              "      <td>506</td>\n",
              "      <td>142.201741</td>\n",
              "      <td>131.733510</td>\n",
              "    </tr>\n",
              "    <tr>\n",
              "      <th>Sunday</th>\n",
              "      <td>1231</td>\n",
              "      <td>177074</td>\n",
              "      <td>1</td>\n",
              "      <td>500</td>\n",
              "      <td>143.845654</td>\n",
              "      <td>131.526734</td>\n",
              "    </tr>\n",
              "    <tr>\n",
              "      <th>Thursday</th>\n",
              "      <td>1225</td>\n",
              "      <td>174552</td>\n",
              "      <td>1</td>\n",
              "      <td>628</td>\n",
              "      <td>142.491429</td>\n",
              "      <td>131.485511</td>\n",
              "    </tr>\n",
              "    <tr>\n",
              "      <th>Tuesday</th>\n",
              "      <td>1222</td>\n",
              "      <td>180338</td>\n",
              "      <td>1</td>\n",
              "      <td>651</td>\n",
              "      <td>147.576105</td>\n",
              "      <td>141.935049</td>\n",
              "    </tr>\n",
              "    <tr>\n",
              "      <th>Wednesday</th>\n",
              "      <td>1229</td>\n",
              "      <td>169169</td>\n",
              "      <td>1</td>\n",
              "      <td>638</td>\n",
              "      <td>137.647681</td>\n",
              "      <td>134.642234</td>\n",
              "    </tr>\n",
              "    <tr>\n",
              "      <th rowspan=\"7\" valign=\"top\">2012</th>\n",
              "      <th>Friday</th>\n",
              "      <td>1248</td>\n",
              "      <td>305784</td>\n",
              "      <td>1</td>\n",
              "      <td>957</td>\n",
              "      <td>245.019231</td>\n",
              "      <td>199.071561</td>\n",
              "    </tr>\n",
              "    <tr>\n",
              "      <th>Monday</th>\n",
              "      <td>1244</td>\n",
              "      <td>275282</td>\n",
              "      <td>1</td>\n",
              "      <td>968</td>\n",
              "      <td>221.287781</td>\n",
              "      <td>206.146413</td>\n",
              "    </tr>\n",
              "    <tr>\n",
              "      <th>Saturday</th>\n",
              "      <td>1248</td>\n",
              "      <td>298064</td>\n",
              "      <td>1</td>\n",
              "      <td>783</td>\n",
              "      <td>238.833333</td>\n",
              "      <td>206.961292</td>\n",
              "    </tr>\n",
              "    <tr>\n",
              "      <th>Sunday</th>\n",
              "      <td>1271</td>\n",
              "      <td>266953</td>\n",
              "      <td>1</td>\n",
              "      <td>776</td>\n",
              "      <td>210.033832</td>\n",
              "      <td>191.783124</td>\n",
              "    </tr>\n",
              "    <tr>\n",
              "      <th>Thursday</th>\n",
              "      <td>1246</td>\n",
              "      <td>310843</td>\n",
              "      <td>1</td>\n",
              "      <td>976</td>\n",
              "      <td>249.472713</td>\n",
              "      <td>217.839093</td>\n",
              "    </tr>\n",
              "    <tr>\n",
              "      <th>Tuesday</th>\n",
              "      <td>1231</td>\n",
              "      <td>288771</td>\n",
              "      <td>1</td>\n",
              "      <td>970</td>\n",
              "      <td>234.582453</td>\n",
              "      <td>215.757368</td>\n",
              "    </tr>\n",
              "    <tr>\n",
              "      <th>Wednesday</th>\n",
              "      <td>1246</td>\n",
              "      <td>303879</td>\n",
              "      <td>1</td>\n",
              "      <td>977</td>\n",
              "      <td>243.883628</td>\n",
              "      <td>221.186135</td>\n",
              "    </tr>\n",
              "  </tbody>\n",
              "</table>\n",
              "</div>"
            ],
            "text/plain": [
              "               instant   count                                 \n",
              "               nunique     sum min  max        mean         std\n",
              "year weekday                                                   \n",
              "2011 Friday       1239  182006   1  591  146.897498  126.875755\n",
              "     Monday       1235  180221   1  620  145.927935  138.033916\n",
              "     Saturday     1264  179743   1  506  142.201741  131.733510\n",
              "     Sunday       1231  177074   1  500  143.845654  131.526734\n",
              "     Thursday     1225  174552   1  628  142.491429  131.485511\n",
              "     Tuesday      1222  180338   1  651  147.576105  141.935049\n",
              "     Wednesday    1229  169169   1  638  137.647681  134.642234\n",
              "2012 Friday       1248  305784   1  957  245.019231  199.071561\n",
              "     Monday       1244  275282   1  968  221.287781  206.146413\n",
              "     Saturday     1248  298064   1  783  238.833333  206.961292\n",
              "     Sunday       1271  266953   1  776  210.033832  191.783124\n",
              "     Thursday     1246  310843   1  976  249.472713  217.839093\n",
              "     Tuesday      1231  288771   1  970  234.582453  215.757368\n",
              "     Wednesday    1246  303879   1  977  243.883628  221.186135"
            ]
          },
          "execution_count": 29,
          "metadata": {},
          "output_type": "execute_result"
        }
      ],
      "source": [
        "df.groupby(['year', 'weekday']).agg({\n",
        "    'instant': 'nunique',\n",
        "    'count': ['sum', 'min', 'max', 'mean', 'std']})"
      ]
    },
    {
      "cell_type": "code",
      "execution_count": 30,
      "metadata": {},
      "outputs": [
        {
          "data": {
            "application/vnd.microsoft.datawrangler.viewer.v0+json": {
              "columns": [
                {
                  "name": "('year', 'month')",
                  "rawType": "object",
                  "type": "unknown"
                },
                {
                  "name": "('instant', 'nunique')",
                  "rawType": "int64",
                  "type": "integer"
                },
                {
                  "name": "('count', 'sum')",
                  "rawType": "int64",
                  "type": "integer"
                },
                {
                  "name": "('count', 'min')",
                  "rawType": "int64",
                  "type": "integer"
                },
                {
                  "name": "('count', 'max')",
                  "rawType": "int64",
                  "type": "integer"
                },
                {
                  "name": "('count', 'mean')",
                  "rawType": "float64",
                  "type": "float"
                },
                {
                  "name": "('count', 'std')",
                  "rawType": "float64",
                  "type": "float"
                }
              ],
              "conversionMethod": "pd.DataFrame",
              "ref": "28131344-068d-4d24-aaff-9be73f4cf767",
              "rows": [
                [
                  "(np.int32(2011), 'April')",
                  "719",
                  "94870",
                  "1",
                  "530",
                  "131.9471488178025",
                  "122.70460709032453"
                ],
                [
                  "(np.int32(2011), 'August')",
                  "731",
                  "136691",
                  "1",
                  "651",
                  "186.99179206566347",
                  "151.95341729763078"
                ],
                [
                  "(np.int32(2011), 'December')",
                  "741",
                  "87323",
                  "1",
                  "477",
                  "117.84480431848853",
                  "106.94334918921439"
                ],
                [
                  "(np.int32(2011), 'February')",
                  "649",
                  "48215",
                  "1",
                  "327",
                  "74.29121725731895",
                  "63.626004563346655"
                ],
                [
                  "(np.int32(2011), 'January')",
                  "688",
                  "38189",
                  "1",
                  "249",
                  "55.50726744186046",
                  "48.62065326399619"
                ],
                [
                  "(np.int32(2011), 'July')",
                  "744",
                  "141341",
                  "1",
                  "596",
                  "189.9744623655914",
                  "144.83447885380014"
                ],
                [
                  "(np.int32(2011), 'June')",
                  "720",
                  "143512",
                  "1",
                  "638",
                  "199.32222222222222",
                  "155.0836431163244"
                ],
                [
                  "(np.int32(2011), 'March')",
                  "730",
                  "64045",
                  "1",
                  "336",
                  "87.73287671232876",
                  "78.87948918925906"
                ],
                [
                  "(np.int32(2011), 'May')",
                  "744",
                  "135821",
                  "1",
                  "611",
                  "182.55510752688173",
                  "146.39341039284764"
                ],
                [
                  "(np.int32(2011), 'November')",
                  "719",
                  "102167",
                  "1",
                  "553",
                  "142.09596662030597",
                  "123.74886048434698"
                ],
                [
                  "(np.int32(2011), 'October')",
                  "743",
                  "123511",
                  "1",
                  "625",
                  "166.2328398384926",
                  "144.96473555149453"
                ],
                [
                  "(np.int32(2011), 'September')",
                  "717",
                  "127418",
                  "1",
                  "628",
                  "177.70990237099025",
                  "147.4159056729684"
                ],
                [
                  "(np.int32(2012), 'April')",
                  "718",
                  "174224",
                  "1",
                  "822",
                  "242.6518105849582",
                  "210.93933819227786"
                ],
                [
                  "(np.int32(2012), 'August')",
                  "744",
                  "214503",
                  "3",
                  "941",
                  "288.31048387096774",
                  "227.87499606892587"
                ],
                [
                  "(np.int32(2012), 'December')",
                  "742",
                  "123713",
                  "1",
                  "759",
                  "166.72911051212938",
                  "164.89519245740317"
                ],
                [
                  "(np.int32(2012), 'February')",
                  "692",
                  "103137",
                  "1",
                  "610",
                  "149.04190751445086",
                  "134.28649301581436"
                ],
                [
                  "(np.int32(2012), 'January')",
                  "741",
                  "96744",
                  "1",
                  "559",
                  "130.5587044534413",
                  "119.79671236045405"
                ],
                [
                  "(np.int32(2012), 'July')",
                  "744",
                  "203607",
                  "2",
                  "913",
                  "273.6653225806452",
                  "214.15845401416442"
                ],
                [
                  "(np.int32(2012), 'June')",
                  "720",
                  "202830",
                  "4",
                  "900",
                  "281.7083333333333",
                  "222.4108789964344"
                ],
                [
                  "(np.int32(2012), 'March')",
                  "743",
                  "164875",
                  "1",
                  "957",
                  "221.90444145356662",
                  "194.97063921382897"
                ],
                [
                  "(np.int32(2012), 'May')",
                  "744",
                  "195865",
                  "1",
                  "873",
                  "263.25940860215053",
                  "214.089102763607"
                ],
                [
                  "(np.int32(2012), 'November')",
                  "718",
                  "152664",
                  "1",
                  "729",
                  "212.62395543175487",
                  "181.0758121509273"
                ],
                [
                  "(np.int32(2012), 'October')",
                  "708",
                  "198841",
                  "1",
                  "963",
                  "280.84887005649716",
                  "236.9019958297978"
                ],
                [
                  "(np.int32(2012), 'September')",
                  "720",
                  "218573",
                  "3",
                  "977",
                  "303.5736111111111",
                  "249.86059562132553"
                ]
              ],
              "shape": {
                "columns": 6,
                "rows": 24
              }
            },
            "text/html": [
              "<div>\n",
              "<style scoped>\n",
              "    .dataframe tbody tr th:only-of-type {\n",
              "        vertical-align: middle;\n",
              "    }\n",
              "\n",
              "    .dataframe tbody tr th {\n",
              "        vertical-align: top;\n",
              "    }\n",
              "\n",
              "    .dataframe thead tr th {\n",
              "        text-align: left;\n",
              "    }\n",
              "\n",
              "    .dataframe thead tr:last-of-type th {\n",
              "        text-align: right;\n",
              "    }\n",
              "</style>\n",
              "<table border=\"1\" class=\"dataframe\">\n",
              "  <thead>\n",
              "    <tr>\n",
              "      <th></th>\n",
              "      <th></th>\n",
              "      <th>instant</th>\n",
              "      <th colspan=\"5\" halign=\"left\">count</th>\n",
              "    </tr>\n",
              "    <tr>\n",
              "      <th></th>\n",
              "      <th></th>\n",
              "      <th>nunique</th>\n",
              "      <th>sum</th>\n",
              "      <th>min</th>\n",
              "      <th>max</th>\n",
              "      <th>mean</th>\n",
              "      <th>std</th>\n",
              "    </tr>\n",
              "    <tr>\n",
              "      <th>year</th>\n",
              "      <th>month</th>\n",
              "      <th></th>\n",
              "      <th></th>\n",
              "      <th></th>\n",
              "      <th></th>\n",
              "      <th></th>\n",
              "      <th></th>\n",
              "    </tr>\n",
              "  </thead>\n",
              "  <tbody>\n",
              "    <tr>\n",
              "      <th rowspan=\"12\" valign=\"top\">2011</th>\n",
              "      <th>April</th>\n",
              "      <td>719</td>\n",
              "      <td>94870</td>\n",
              "      <td>1</td>\n",
              "      <td>530</td>\n",
              "      <td>131.947149</td>\n",
              "      <td>122.704607</td>\n",
              "    </tr>\n",
              "    <tr>\n",
              "      <th>August</th>\n",
              "      <td>731</td>\n",
              "      <td>136691</td>\n",
              "      <td>1</td>\n",
              "      <td>651</td>\n",
              "      <td>186.991792</td>\n",
              "      <td>151.953417</td>\n",
              "    </tr>\n",
              "    <tr>\n",
              "      <th>December</th>\n",
              "      <td>741</td>\n",
              "      <td>87323</td>\n",
              "      <td>1</td>\n",
              "      <td>477</td>\n",
              "      <td>117.844804</td>\n",
              "      <td>106.943349</td>\n",
              "    </tr>\n",
              "    <tr>\n",
              "      <th>February</th>\n",
              "      <td>649</td>\n",
              "      <td>48215</td>\n",
              "      <td>1</td>\n",
              "      <td>327</td>\n",
              "      <td>74.291217</td>\n",
              "      <td>63.626005</td>\n",
              "    </tr>\n",
              "    <tr>\n",
              "      <th>January</th>\n",
              "      <td>688</td>\n",
              "      <td>38189</td>\n",
              "      <td>1</td>\n",
              "      <td>249</td>\n",
              "      <td>55.507267</td>\n",
              "      <td>48.620653</td>\n",
              "    </tr>\n",
              "    <tr>\n",
              "      <th>July</th>\n",
              "      <td>744</td>\n",
              "      <td>141341</td>\n",
              "      <td>1</td>\n",
              "      <td>596</td>\n",
              "      <td>189.974462</td>\n",
              "      <td>144.834479</td>\n",
              "    </tr>\n",
              "    <tr>\n",
              "      <th>June</th>\n",
              "      <td>720</td>\n",
              "      <td>143512</td>\n",
              "      <td>1</td>\n",
              "      <td>638</td>\n",
              "      <td>199.322222</td>\n",
              "      <td>155.083643</td>\n",
              "    </tr>\n",
              "    <tr>\n",
              "      <th>March</th>\n",
              "      <td>730</td>\n",
              "      <td>64045</td>\n",
              "      <td>1</td>\n",
              "      <td>336</td>\n",
              "      <td>87.732877</td>\n",
              "      <td>78.879489</td>\n",
              "    </tr>\n",
              "    <tr>\n",
              "      <th>May</th>\n",
              "      <td>744</td>\n",
              "      <td>135821</td>\n",
              "      <td>1</td>\n",
              "      <td>611</td>\n",
              "      <td>182.555108</td>\n",
              "      <td>146.393410</td>\n",
              "    </tr>\n",
              "    <tr>\n",
              "      <th>November</th>\n",
              "      <td>719</td>\n",
              "      <td>102167</td>\n",
              "      <td>1</td>\n",
              "      <td>553</td>\n",
              "      <td>142.095967</td>\n",
              "      <td>123.748860</td>\n",
              "    </tr>\n",
              "    <tr>\n",
              "      <th>October</th>\n",
              "      <td>743</td>\n",
              "      <td>123511</td>\n",
              "      <td>1</td>\n",
              "      <td>625</td>\n",
              "      <td>166.232840</td>\n",
              "      <td>144.964736</td>\n",
              "    </tr>\n",
              "    <tr>\n",
              "      <th>September</th>\n",
              "      <td>717</td>\n",
              "      <td>127418</td>\n",
              "      <td>1</td>\n",
              "      <td>628</td>\n",
              "      <td>177.709902</td>\n",
              "      <td>147.415906</td>\n",
              "    </tr>\n",
              "    <tr>\n",
              "      <th rowspan=\"12\" valign=\"top\">2012</th>\n",
              "      <th>April</th>\n",
              "      <td>718</td>\n",
              "      <td>174224</td>\n",
              "      <td>1</td>\n",
              "      <td>822</td>\n",
              "      <td>242.651811</td>\n",
              "      <td>210.939338</td>\n",
              "    </tr>\n",
              "    <tr>\n",
              "      <th>August</th>\n",
              "      <td>744</td>\n",
              "      <td>214503</td>\n",
              "      <td>3</td>\n",
              "      <td>941</td>\n",
              "      <td>288.310484</td>\n",
              "      <td>227.874996</td>\n",
              "    </tr>\n",
              "    <tr>\n",
              "      <th>December</th>\n",
              "      <td>742</td>\n",
              "      <td>123713</td>\n",
              "      <td>1</td>\n",
              "      <td>759</td>\n",
              "      <td>166.729111</td>\n",
              "      <td>164.895192</td>\n",
              "    </tr>\n",
              "    <tr>\n",
              "      <th>February</th>\n",
              "      <td>692</td>\n",
              "      <td>103137</td>\n",
              "      <td>1</td>\n",
              "      <td>610</td>\n",
              "      <td>149.041908</td>\n",
              "      <td>134.286493</td>\n",
              "    </tr>\n",
              "    <tr>\n",
              "      <th>January</th>\n",
              "      <td>741</td>\n",
              "      <td>96744</td>\n",
              "      <td>1</td>\n",
              "      <td>559</td>\n",
              "      <td>130.558704</td>\n",
              "      <td>119.796712</td>\n",
              "    </tr>\n",
              "    <tr>\n",
              "      <th>July</th>\n",
              "      <td>744</td>\n",
              "      <td>203607</td>\n",
              "      <td>2</td>\n",
              "      <td>913</td>\n",
              "      <td>273.665323</td>\n",
              "      <td>214.158454</td>\n",
              "    </tr>\n",
              "    <tr>\n",
              "      <th>June</th>\n",
              "      <td>720</td>\n",
              "      <td>202830</td>\n",
              "      <td>4</td>\n",
              "      <td>900</td>\n",
              "      <td>281.708333</td>\n",
              "      <td>222.410879</td>\n",
              "    </tr>\n",
              "    <tr>\n",
              "      <th>March</th>\n",
              "      <td>743</td>\n",
              "      <td>164875</td>\n",
              "      <td>1</td>\n",
              "      <td>957</td>\n",
              "      <td>221.904441</td>\n",
              "      <td>194.970639</td>\n",
              "    </tr>\n",
              "    <tr>\n",
              "      <th>May</th>\n",
              "      <td>744</td>\n",
              "      <td>195865</td>\n",
              "      <td>1</td>\n",
              "      <td>873</td>\n",
              "      <td>263.259409</td>\n",
              "      <td>214.089103</td>\n",
              "    </tr>\n",
              "    <tr>\n",
              "      <th>November</th>\n",
              "      <td>718</td>\n",
              "      <td>152664</td>\n",
              "      <td>1</td>\n",
              "      <td>729</td>\n",
              "      <td>212.623955</td>\n",
              "      <td>181.075812</td>\n",
              "    </tr>\n",
              "    <tr>\n",
              "      <th>October</th>\n",
              "      <td>708</td>\n",
              "      <td>198841</td>\n",
              "      <td>1</td>\n",
              "      <td>963</td>\n",
              "      <td>280.848870</td>\n",
              "      <td>236.901996</td>\n",
              "    </tr>\n",
              "    <tr>\n",
              "      <th>September</th>\n",
              "      <td>720</td>\n",
              "      <td>218573</td>\n",
              "      <td>3</td>\n",
              "      <td>977</td>\n",
              "      <td>303.573611</td>\n",
              "      <td>249.860596</td>\n",
              "    </tr>\n",
              "  </tbody>\n",
              "</table>\n",
              "</div>"
            ],
            "text/plain": [
              "               instant   count                                 \n",
              "               nunique     sum min  max        mean         std\n",
              "year month                                                     \n",
              "2011 April         719   94870   1  530  131.947149  122.704607\n",
              "     August        731  136691   1  651  186.991792  151.953417\n",
              "     December      741   87323   1  477  117.844804  106.943349\n",
              "     February      649   48215   1  327   74.291217   63.626005\n",
              "     January       688   38189   1  249   55.507267   48.620653\n",
              "     July          744  141341   1  596  189.974462  144.834479\n",
              "     June          720  143512   1  638  199.322222  155.083643\n",
              "     March         730   64045   1  336   87.732877   78.879489\n",
              "     May           744  135821   1  611  182.555108  146.393410\n",
              "     November      719  102167   1  553  142.095967  123.748860\n",
              "     October       743  123511   1  625  166.232840  144.964736\n",
              "     September     717  127418   1  628  177.709902  147.415906\n",
              "2012 April         718  174224   1  822  242.651811  210.939338\n",
              "     August        744  214503   3  941  288.310484  227.874996\n",
              "     December      742  123713   1  759  166.729111  164.895192\n",
              "     February      692  103137   1  610  149.041908  134.286493\n",
              "     January       741   96744   1  559  130.558704  119.796712\n",
              "     July          744  203607   2  913  273.665323  214.158454\n",
              "     June          720  202830   4  900  281.708333  222.410879\n",
              "     March         743  164875   1  957  221.904441  194.970639\n",
              "     May           744  195865   1  873  263.259409  214.089103\n",
              "     November      718  152664   1  729  212.623955  181.075812\n",
              "     October       708  198841   1  963  280.848870  236.901996\n",
              "     September     720  218573   3  977  303.573611  249.860596"
            ]
          },
          "execution_count": 30,
          "metadata": {},
          "output_type": "execute_result"
        }
      ],
      "source": [
        "df.groupby(['year', 'month']).agg({\n",
        "    'instant': 'nunique',\n",
        "    'count': ['sum', 'min', 'max', 'mean', 'std']})"
      ]
    },
    {
      "cell_type": "markdown",
      "metadata": {
        "id": "th_Lzl2Fkj9O"
      },
      "source": [
        "**Insight:**\n",
        "- Jumlah peminjam sepeda pada tahun 2012 lebih banyak jika dibandingkan dengan tahun 2011\n",
        "- Jumlah peminjam pada kategori registered lebih banyak jika dibandingkan dengan kategori casual\n",
        "- Terdapat perbedaan yang signifikan pada jumlah peminjam sepeda pada musim dan cuaca tertentu\n",
        "- Jumlah peminjam sepeda lebih banyak pada hari kerja dibandingkan saat hari libur\n",
        "- Terdapat pola musiman pada jumlah peminjam sepeda dari waktu ke waktu"
      ]
    },
    {
      "cell_type": "markdown",
      "metadata": {
        "id": "zsyZjqak8DC2"
      },
      "source": [
        "## Visualization & Explanatory Analysis"
      ]
    },
    {
      "cell_type": "markdown",
      "metadata": {},
      "source": [
        "### Pertanyaan 1: Bagaimana proporsi antara pengguna casual dan registered?"
      ]
    },
    {
      "cell_type": "code",
      "execution_count": 31,
      "metadata": {},
      "outputs": [
        {
          "data": {
            "image/png": "[encoded data removed]",
            "text/plain": [
              "<Figure size 640x480 with 1 Axes>"
            ]
          },
          "metadata": {},
          "output_type": "display_data"
        }
      ],
      "source": [
        "casual_total = df['casual'].sum()\n",
        "registered_total = df['registered'].sum()\n",
        "\n",
        "\n",
        "labels = ['Casual Users', 'Registered Users']\n",
        "sizes = [casual_total, registered_total]\n",
        "colors = ['#ff9999','#66b3ff']\n",
        "explode = (0.1, 0)\n",
        "\n",
        "plt.pie(sizes, labels=labels, autopct='%1.1f%%', colors=colors, explode=explode, wedgeprops={'edgecolor': 'black'})\n",
        "plt.title('Perbandingan Pengguna Casual vs Registered ')\n",
        "plt.show()"
      ]
    },
    {
      "cell_type": "markdown",
      "metadata": {},
      "source": [
        "### Pertanyaan 2: Bagaimana pola peminjaman sepeda per bulan dan apakah terdapat perbedaan antara tahun yang berbeda?"
      ]
    },
    {
      "cell_type": "code",
      "execution_count": 32,
      "metadata": {},
      "outputs": [
        {
          "data": {
            "image/png": "[encoded data removed]",
            "text/plain": [
              "<Figure size 1000x500 with 1 Axes>"
            ]
          },
          "metadata": {},
          "output_type": "display_data"
        }
      ],
      "source": [
        "plt.figure(figsize=(10, 5))\n",
        "sns.lineplot(\n",
        "    data=df,\n",
        "    x='month',\n",
        "    y='count',\n",
        "    hue='year',\n",
        "    estimator=np.mean,  \n",
        "    marker='o',\n",
        "    errorbar=None,\n",
        "    palette='tab10'\n",
        ")\n",
        "plt.xlabel('Bulan')\n",
        "plt.ylabel('Rata-rata total sepeda yang dipinjam')\n",
        "plt.title('Rata-rata total sepeda yang dipinjam per bulan')    \n",
        "plt.xticks(ticks=range(1, 13), labels=['Jan', 'Feb', 'Mar', 'Apr', 'May', 'Jun', 'Jul', 'Aug', 'Sep', 'Oct', 'Nov', 'Dec'])\n",
        "plt.legend(title='Year')\n",
        "plt.grid(True)\n",
        "plt.show()"
      ]
    },
    {
      "cell_type": "markdown",
      "metadata": {},
      "source": [
        "### Pertanyaan 3: Bagaimana perbandingan peminjaman antara musim semi, panas, gugur, dan dingin?"
      ]
    },
    {
      "cell_type": "code",
      "execution_count": 33,
      "metadata": {},
      "outputs": [
        {
          "data": {
            "image/png": "[encoded data removed]",
            "text/plain": [
              "<Figure size 640x480 with 1 Axes>"
            ]
          },
          "metadata": {},
          "output_type": "display_data"
        }
      ],
      "source": [
        "sns.barplot(\n",
        "    data=df,\n",
        "    x='season',\n",
        "    y='count',\n",
        "    hue='year',\n",
        "    estimator=np.mean, \n",
        "    errorbar=None\n",
        ")\n",
        "\n",
        "plt.xlabel('Musim')\n",
        "plt.ylabel('Rata-Rata Peminjaman Sepeda')\n",
        "plt.title('Rata-Rata Peminjaman Sepeda Berdasarkan Musim')\n",
        "\n",
        "plt.legend(title=\"Tahun\")\n",
        "plt.show()"
      ]
    },
    {
      "cell_type": "markdown",
      "metadata": {},
      "source": [
        "### Pertanyaan 4: Bagaimana pengaruh kondisi cuaca terhadap jumlah peminjaman sepeda?"
      ]
    },
    {
      "cell_type": "code",
      "execution_count": 34,
      "metadata": {},
      "outputs": [
        {
          "data": {
            "image/png": "[encoded data removed]",
            "text/plain": [
              "<Figure size 640x480 with 1 Axes>"
            ]
          },
          "metadata": {},
          "output_type": "display_data"
        }
      ],
      "source": [
        "sns.barplot(\n",
        "    data=df,\n",
        "    x='weather',\n",
        "    y='count',\n",
        "    hue='year',\n",
        "    estimator=np.mean, \n",
        "    errorbar=None\n",
        ")\n",
        "\n",
        "plt.xlabel('Kondisi Cuaca')\n",
        "plt.ylabel('Rata-rata Peminjaman Sepeda')\n",
        "plt.title('Rata-rata Peminjaman Sepeda Berdasarkan Kondisi Cuaca')\n",
        "\n",
        "plt.legend(title=\"Tahun\")\n",
        "plt.show()"
      ]
    },
    {
      "cell_type": "markdown",
      "metadata": {},
      "source": [
        "### Pertanyaan 5: Apakah hari libur memengaruhi jumlah peminjaman sepeda?"
      ]
    },
    {
      "cell_type": "code",
      "execution_count": 35,
      "metadata": {},
      "outputs": [
        {
          "data": {
            "image/png": "[encoded data removed]",
            "text/plain": [
              "<Figure size 640x480 with 1 Axes>"
            ]
          },
          "metadata": {},
          "output_type": "display_data"
        }
      ],
      "source": [
        "sns.barplot(\n",
        "    data=df,\n",
        "    x='holiday',\n",
        "    y='count',\n",
        "    hue='year',\n",
        "    estimator=np.mean,  \n",
        "    errorbar=None\n",
        ")\n",
        "\n",
        "plt.xlabel('Hari Libur (0 = Bukan Libur, 1 = Libur)')\n",
        "plt.ylabel('Rata-rata Peminjaman Sepeda')\n",
        "plt.title('Rata-rata Peminjaman Sepeda Berdasarkan Hari Libur')\n",
        "\n",
        "plt.legend(title=\"Tahun\")\n",
        "plt.show()"
      ]
    },
    {
      "cell_type": "markdown",
      "metadata": {},
      "source": [
        "### Pertanyaan 6: Seberapa besar perbedaan peminjaman antara hari kerja dan hari libur?"
      ]
    },
    {
      "cell_type": "code",
      "execution_count": 36,
      "metadata": {},
      "outputs": [
        {
          "data": {
            "image/png": "[encoded data removed]",
            "text/plain": [
              "<Figure size 640x480 with 1 Axes>"
            ]
          },
          "metadata": {},
          "output_type": "display_data"
        }
      ],
      "source": [
        "sns.barplot(\n",
        "    data=df,\n",
        "    x='workingday',\n",
        "    y='count',\n",
        "    hue='year',\n",
        "    estimator=np.mean,  \n",
        "    errorbar=None\n",
        ")\n",
        "\n",
        "plt.xlabel('Hari Kerja (0 = Libur, 1 = Hari Kerja)')\n",
        "plt.ylabel('Total Peminjaman Sepeda')\n",
        "plt.title('Total Peminjaman Sepeda Berdasarkan Hari Kerja')\n",
        "\n",
        "plt.legend(title=\"Tahun\")\n",
        "plt.show()"
      ]
    },
    {
      "cell_type": "markdown",
      "metadata": {},
      "source": [
        "### Pertanyaan 7: Bagaimana pengaruh faktor cuaca seperti temperatur, kelembaban, dan kecepatan angin terhadap jumlah peminjaman sepeda?"
      ]
    },
    {
      "cell_type": "code",
      "execution_count": 37,
      "metadata": {},
      "outputs": [
        {
          "data": {
            "image/png": "[encoded data removed]",
            "text/plain": [
              "<Figure size 800x600 with 2 Axes>"
            ]
          },
          "metadata": {},
          "output_type": "display_data"
        }
      ],
      "source": [
        "plt.figure(figsize=(8,6))\n",
        "sns.heatmap(df[['count', 'temp', 'humidity', 'windspeed']].corr(), annot=True, cmap='coolwarm', fmt=\".2f\", linewidths=2,)\n",
        "plt.title('Heatmap Korelasi Variabel')\n",
        "plt.show()"
      ]
    },
    {
      "cell_type": "markdown",
      "metadata": {
        "id": "_0-36BDLklRg"
      },
      "source": [
        "**Insight:**\n",
        "- Secara keseluruhan peminjam sepeda terdiri dari 18,8% pengguna kategori casual dan 81,2% pengguna kategori registered \n",
        "- Dari line plot diperleh bahwa jumlah peminjam sepeda memiliki pola berulang (musiman)\n",
        "- Secara rata-rata jumlah peminjam sepeda paling sedikit ada pada saat musim semi dan tertinggi pada musim gugur\n",
        "- Secara rat-rata peminjam sepeda tertinggi ada pada saat cuaca cerah atau sedikit berawan dan terrendah pada saat cuaca hujan lebat atau salju\n",
        "- Secara rata-rata jumlah peminjam sepeda lebih banyaak saat hari kerja\n",
        "- jumlah peminjam sepedan memiliki korelasi positif dengan suhu udara dan berkorelasi negatif dengan kelembapan udara"
      ]
    },
    {
      "cell_type": "markdown",
      "metadata": {
        "id": "9y4VUsmcYNZ5"
      },
      "source": [
        "## Analisis Lanjutan (Opsional)"
      ]
    },
    {
      "cell_type": "markdown",
      "metadata": {},
      "source": [
        "### Analisis Inferensi: Regresi Linear Berganda dengan metode *Ordinary Least Squares* (OLS)"
      ]
    },
    {
      "cell_type": "code",
      "execution_count": 38,
      "metadata": {},
      "outputs": [],
      "source": [
        "X = df[['season', 'holiday', 'workingday', 'weather', 'temp', 'humidity', 'windspeed']]\n",
        "y = df['count']\n",
        "X = sm.add_constant(X)\n"
      ]
    },
    {
      "cell_type": "code",
      "execution_count": 39,
      "metadata": {},
      "outputs": [
        {
          "data": {
            "text/plain": [
              "Index(['instant', 'dteday', 'year', 'month', 'hour', 'temp', 'atemp',\n",
              "       'humidity', 'windspeed', 'casual', 'registered', 'count',\n",
              "       'season_Spring', 'season_Summer', 'season_Winter', 'holiday_True',\n",
              "       'workingday_True', 'weather_Heavy Rain/Snow', 'weather_Light Snow/Rain',\n",
              "       'weather_Mist/Cloudy', 'weekday_Monday', 'weekday_Saturday',\n",
              "       'weekday_Sunday', 'weekday_Thursday', 'weekday_Tuesday',\n",
              "       'weekday_Wednesday'],\n",
              "      dtype='object')"
            ]
          },
          "execution_count": 39,
          "metadata": {},
          "output_type": "execute_result"
        }
      ],
      "source": [
        "df_dummies = pd.get_dummies(df, columns=['season', 'holiday', 'workingday', 'weather', 'weekday'], drop_first=True, dtype='int')\n",
        "\n",
        "df_dummies.columns"
      ]
    },
    {
      "cell_type": "code",
      "execution_count": 40,
      "metadata": {},
      "outputs": [],
      "source": [
        "independent_var = ['temp', 'humidity', 'windspeed',\n",
        "                   'season_Spring', 'season_Summer', 'season_Winter', \n",
        "                   'holiday_True','workingday_True', \n",
        "                   'weather_Heavy Rain/Snow', 'weather_Light Snow/Rain', 'weather_Mist/Cloudy']"
      ]
    },
    {
      "cell_type": "markdown",
      "metadata": {},
      "source": [
        "#### Model 1 (Model Awal)"
      ]
    },
    {
      "cell_type": "code",
      "execution_count": 41,
      "metadata": {},
      "outputs": [
        {
          "name": "stdout",
          "output_type": "stream",
          "text": [
            "                            OLS Regression Results                            \n",
            "==============================================================================\n",
            "Dep. Variable:                  count   R-squared:                       0.283\n",
            "Model:                            OLS   Adj. R-squared:                  0.283\n",
            "Method:                 Least Squares   F-statistic:                     624.4\n",
            "Date:                Mon, 10 Mar 2025   Prob (F-statistic):               0.00\n",
            "Time:                        16:14:53   Log-Likelihood:            -1.1215e+05\n",
            "No. Observations:               17379   AIC:                         2.243e+05\n",
            "Df Residuals:                   17367   BIC:                         2.244e+05\n",
            "Df Model:                          11                                         \n",
            "Covariance Type:            nonrobust                                         \n",
            "===========================================================================================\n",
            "                              coef    std err          t      P>|t|      [0.025      0.975]\n",
            "-------------------------------------------------------------------------------------------\n",
            "const                      86.8161      9.645      9.001      0.000      67.911     105.721\n",
            "temp                      454.7938      9.963     45.648      0.000     435.265     474.322\n",
            "humidity                 -286.6522      7.221    -39.697      0.000    -300.806    -272.498\n",
            "windspeed                  31.6529     10.202      3.102      0.002      11.655      51.651\n",
            "season_Spring              43.4040      5.317      8.164      0.000      32.983      53.825\n",
            "season_Summer              42.4174      3.660     11.590      0.000      35.244      49.591\n",
            "season_Winter             100.4936      4.322     23.254      0.000      92.023     108.964\n",
            "holiday_True              -27.6103      7.212     -3.829      0.000     -41.746     -13.475\n",
            "workingday_True             1.7266      2.595      0.665      0.506      -3.359       6.812\n",
            "weather_Heavy Rain/Snow   104.8196     88.755      1.181      0.238     -69.150     278.789\n",
            "weather_Light Snow/Rain    -3.4375      4.743     -0.725      0.469     -12.735       5.860\n",
            "weather_Mist/Cloudy        17.0230      2.842      5.989      0.000      11.452      22.594\n",
            "==============================================================================\n",
            "Omnibus:                     3585.012   Durbin-Watson:                   0.441\n",
            "Prob(Omnibus):                  0.000   Jarque-Bera (JB):             7237.637\n",
            "Skew:                           1.234   Prob(JB):                         0.00\n",
            "Kurtosis:                       4.975   Cond. No.                         120.\n",
            "==============================================================================\n",
            "\n",
            "Notes:\n",
            "[1] Standard Errors assume that the covariance matrix of the errors is correctly specified.\n"
          ]
        }
      ],
      "source": [
        "X = df_dummies[independent_var]\n",
        "y = df_dummies['count']\n",
        "\n",
        "X = sm.add_constant(X)\n",
        "\n",
        "linreg_model = sm.OLS(y, X)\n",
        "result1 = linreg_model.fit()\n",
        "\n",
        "print(result1.summary())"
      ]
    },
    {
      "cell_type": "markdown",
      "metadata": {},
      "source": [
        "<p style=\"text-align: justify;\">Model memiliki R-squared = 0,283, yang berarti 28,3% variasi dalam jumlah peminjaman sepeda dapat dijelaskan oleh variabel dalam model. Namun, masih terdapat parameter yang tidak signifikan, seperti hari kerja dan kondisi cuaca ekstrem. Oleh karena itu, diperlukan reduksi model dengan menghilangkan variabel yang tidak signifikan agar model lebih parsimonious dan interpretatif.</p>\n"
      ]
    },
    {
      "cell_type": "markdown",
      "metadata": {},
      "source": [
        "#### Model 2"
      ]
    },
    {
      "cell_type": "code",
      "execution_count": 42,
      "metadata": {},
      "outputs": [
        {
          "name": "stdout",
          "output_type": "stream",
          "text": [
            "                            OLS Regression Results                            \n",
            "==============================================================================\n",
            "Dep. Variable:                  count   R-squared:                       0.282\n",
            "Model:                            OLS   Adj. R-squared:                  0.281\n",
            "Method:                 Least Squares   F-statistic:                     851.1\n",
            "Date:                Mon, 10 Mar 2025   Prob (F-statistic):               0.00\n",
            "Time:                        16:14:53   Log-Likelihood:            -1.1217e+05\n",
            "No. Observations:               17379   AIC:                         2.244e+05\n",
            "Df Residuals:                   17370   BIC:                         2.244e+05\n",
            "Df Model:                           8                                         \n",
            "Covariance Type:            nonrobust                                         \n",
            "===================================================================================\n",
            "                      coef    std err          t      P>|t|      [0.025      0.975]\n",
            "-----------------------------------------------------------------------------------\n",
            "const              84.7982      9.481      8.944      0.000      66.215     103.382\n",
            "temp              455.6558      9.973     45.689      0.000     436.108     475.204\n",
            "humidity         -279.3077      6.475    -43.136      0.000    -291.999    -266.616\n",
            "windspeed          30.9170     10.052      3.076      0.002      11.215      50.619\n",
            "season_Spring      45.4037      5.305      8.559      0.000      35.006      55.802\n",
            "season_Summer      43.3468      3.657     11.853      0.000      36.179      50.515\n",
            "season_Winter     101.8245      4.319     23.576      0.000      93.359     110.290\n",
            "holiday_True      -27.0766      7.219     -3.751      0.000     -41.226     -12.927\n",
            "workingday_True     2.0894      2.595      0.805      0.421      -2.997       7.176\n",
            "==============================================================================\n",
            "Omnibus:                     3572.291   Durbin-Watson:                   0.438\n",
            "Prob(Omnibus):                  0.000   Jarque-Bera (JB):             7177.194\n",
            "Skew:                           1.233   Prob(JB):                         0.00\n",
            "Kurtosis:                       4.957   Cond. No.                         19.3\n",
            "==============================================================================\n",
            "\n",
            "Notes:\n",
            "[1] Standard Errors assume that the covariance matrix of the errors is correctly specified.\n"
          ]
        }
      ],
      "source": [
        "independent_var = [col for col in independent_var if col not in \n",
        "                   ['weather_Heavy Rain/Snow', 'weather_Light Snow/Rain', 'weather_Mist/Cloudy']]\n",
        "\n",
        "X = df_dummies[independent_var]\n",
        "y = df_dummies['count']\n",
        "\n",
        "X = sm.add_constant(X)\n",
        "\n",
        "linreg_model = sm.OLS(y, X)\n",
        "result2 = linreg_model.fit()\n",
        "\n",
        "print(result2.summary())"
      ]
    },
    {
      "cell_type": "markdown",
      "metadata": {},
      "source": [
        "<p style=\"text-align: justify;\">R-squared = 0,282 yang berarti 28,2% variasi dalam jumlah peminjaman sepeda dapat dijelaskan oleh variabel dalam model. Namun, masih terdapat variabel yang tidak signifikan, seperti hari kerja (<i>workingday_True</i>, p = 0,421). Untuk memperoleh model yang lebih efisien, variabel ini dapat dihapus dalam proses reduksi lanjutan.</p>"
      ]
    },
    {
      "cell_type": "markdown",
      "metadata": {},
      "source": [
        "#### Model 3 (Model Akhir)"
      ]
    },
    {
      "cell_type": "code",
      "execution_count": 43,
      "metadata": {},
      "outputs": [
        {
          "name": "stdout",
          "output_type": "stream",
          "text": [
            "                            OLS Regression Results                            \n",
            "==============================================================================\n",
            "Dep. Variable:                  count   R-squared:                       0.282\n",
            "Model:                            OLS   Adj. R-squared:                  0.281\n",
            "Method:                 Least Squares   F-statistic:                     972.6\n",
            "Date:                Mon, 10 Mar 2025   Prob (F-statistic):               0.00\n",
            "Time:                        16:14:53   Log-Likelihood:            -1.1217e+05\n",
            "No. Observations:               17379   AIC:                         2.244e+05\n",
            "Df Residuals:                   17371   BIC:                         2.244e+05\n",
            "Df Model:                           7                                         \n",
            "Covariance Type:            nonrobust                                         \n",
            "=================================================================================\n",
            "                    coef    std err          t      P>|t|      [0.025      0.975]\n",
            "---------------------------------------------------------------------------------\n",
            "const            85.9213      9.378      9.162      0.000      67.540     104.302\n",
            "temp            456.1024      9.957     45.805      0.000     436.585     475.620\n",
            "humidity       -279.2079      6.474    -43.129      0.000    -291.897    -266.519\n",
            "windspeed        30.8537     10.051      3.070      0.002      11.152      50.555\n",
            "season_Spring    45.5354      5.302      8.588      0.000      35.142      55.929\n",
            "season_Summer    43.4155      3.656     11.875      0.000      36.249      50.582\n",
            "season_Winter   101.9204      4.317     23.607      0.000      93.458     110.383\n",
            "holiday_True    -28.5413      6.986     -4.086      0.000     -42.234     -14.849\n",
            "==============================================================================\n",
            "Omnibus:                     3587.241   Durbin-Watson:                   0.438\n",
            "Prob(Omnibus):                  0.000   Jarque-Bera (JB):             7231.187\n",
            "Skew:                           1.236   Prob(JB):                         0.00\n",
            "Kurtosis:                       4.968   Cond. No.                         17.1\n",
            "==============================================================================\n",
            "\n",
            "Notes:\n",
            "[1] Standard Errors assume that the covariance matrix of the errors is correctly specified.\n"
          ]
        }
      ],
      "source": [
        "independent_var = [col for col in independent_var if col not in \n",
        "                   ['workingday_True']]\n",
        "\n",
        "X = df_dummies[independent_var]\n",
        "y = df_dummies['count']\n",
        "\n",
        "X = sm.add_constant(X)\n",
        "\n",
        "linreg_model = sm.OLS(y, X)\n",
        "result2 = linreg_model.fit()\n",
        "\n",
        "print(result2.summary())"
      ]
    },
    {
      "cell_type": "markdown",
      "metadata": {},
      "source": [
        "<p style=\"text-align: justify;\">\n",
        "    Persamaan regresi yang diberikan adalah:\n",
        "</p>\n",
        "\n",
        "<p style=\"text-align: center; font-weight: bold;\">\n",
        "    Ŷ = 85,92 + 456,10 ⋅ Temp − 279,21 ⋅ Humidity + 30,85 ⋅ Windspeed + 45,54 ⋅ Season_Spring + 43,42 ⋅ Season_Summer + 101,92 ⋅ Season_Winter − 28,54 ⋅ Holiday\n",
        "</p>\n",
        "\n",
        "<h3>Interpretasi Koefisien</h3>\n",
        "\n",
        "<ul>\n",
        "    <li><b>Intercept (85,92)</b>: Saat semua variabel independen bernilai nol, jumlah peminjaman sepeda diperkirakan sebesar 85,92 unit.</li>\n",
        "    <li><b>Temp (456,10)</b>: Setiap kenaikan satu satuan suhu (<i>Temp</i>) akan meningkatkan jumlah peminjaman sepeda sebesar 456,10 unit, dengan asumsi variabel lain tetap.</li>\n",
        "    <li><b>Humidity (-279,21)</b>: Setiap kenaikan satu satuan kelembapan udara (<i>Humidity</i>) akan menurunkan jumlah peminjaman sepeda sebesar 279,21 unit.</li>\n",
        "    <li><b>Windspeed (30,85)</b>: Setiap kenaikan satu satuan kecepatan angin (<i>Windspeed</i>) akan meningkatkan jumlah peminjaman sepeda sebesar 30,85 unit.</li>\n",
        "    <li><b>Season_Spring (45,54)</b>: Pada musim semi, jumlah peminjaman sepeda meningkat sebesar 45,54 unit dibandingkan dengan musim referensi (kemungkinan musim gugur).</li>\n",
        "    <li><b>Season_Summer (43,42)</b>: Pada musim panas, jumlah peminjaman sepeda meningkat sebesar 43,42 unit dibandingkan dengan musim referensi.</li>\n",
        "    <li><b>Season_Winter (101,92)</b>: Pada musim dingin, jumlah peminjaman sepeda meningkat sebesar 101,92 unit dibandingkan dengan musim referensi.</li>\n",
        "    <li><b>Holiday (-28,54)</b>: Saat hari libur, jumlah peminjaman sepeda cenderung berkurang sebesar 28,54 unit dibandingkan dengan hari biasa.</li>\n",
        "</ul>"
      ]
    },
    {
      "cell_type": "markdown",
      "metadata": {},
      "source": [
        "<p style=\"text-align: justify;\">Model akhir berhasil menyisakan variabel yang signifikan tanpa mengorbankan banyak informasi dengan nilai R-squared = 0,282 yang berarti 28,2% variasi dalam jumlah peminjaman sepeda dapat dijelaskan oleh variabel dalam model. Masih ada pelanggaran asumsi, terutama autokorelasi dan normalitas residual, yang perlu diperbaiki dengan pendekatan regresi yang lebih sesuai, seperti <i>time series analysis</i> atau model dengan <i>robust standard error</i>. Variabel yang tersisa memiliki interpretasi yang lebih jelas, sehingga model ini lebih sederhana namun tetap menjelaskan faktor utama yang memengaruhi peminjaman sepeda.</p>\n"
      ]
    },
    {
      "cell_type": "markdown",
      "metadata": {
        "id": "_WeHlCeX8DC2"
      },
      "source": [
        "## Conclusion"
      ]
    },
    {
      "cell_type": "markdown",
      "metadata": {
        "id": "ZTcyR48Y8DC2"
      },
      "source": [
        "- Conclution pertanyaan 1\n",
        "<p style=\"text-align: justify;\"> Secara keseluruhan pengguana sepeda kategori registered jauh lebih banyak (81,2%) jika dibandigkan dengan kategori casual (18,8%). </p>\n",
        "\n",
        "- Conclution pertanyaan 2\n",
        "<p style=\"text-align: justify;\"> Terdapat pola musiman pada data jumlah peminjaman sepeda, pada bulan januari samapai dengan mei jumlah pengguna sepeda memiliki kecenderungan tren positif (kenaikan), sedangkan pada bulan juni sampai dengan desember jumlah pengguna sepeda cenderung memiliki tren negatif (penurunan). </p>\n",
        "\n",
        "- Conclution Pertanyaan 3\n",
        "<p style=\"text-align: justify;\"> Secara rata-rata jumlah pengguna sepeda tertinggi ada pada saat musim dan rata-rata jumlah pengguna sepeeda terrendah ada pada saat musim semi. </p>\n",
        "\n",
        "- Conclution Pertanyaan 4\n",
        "<p style=\"text-align: justify;\"> Secara rata-rata jumlah pengguna sepeda tertinggi ada pada saat cuaca cerah atau sedikit berawan dan rata-rata jumlah pengguna sepeeda terrendah ada pada saat cuaca hujan lebat atau bersalju. </p>\n",
        "\n",
        "- Conclution Pertanyaan 5\n",
        "<p style=\"text-align: justify;\"> Secara rata-rata jumlah pengguna sepeda lebih tinggi pada hari biasa jika dibandingkan dengan saat hari libur. </p>\n",
        "\n",
        "- Conclution Pertanyaan 6\n",
        "<p style=\"text-align: justify;\"> Secara rata-rata jumlah pengguna sepeda lebih tinggi pada hari kerja jika dibandingkan dengan saat hari libur. </p>\n",
        "\n",
        "- Conclution Pertanyaan 7\n",
        "<p style=\"text-align: justify;\"> Faktor cuaca temperatur memiliki hubungan yang positif sedang (0,40) terhadap jumlah pengguna sepeda dan kelembapan udara memiliki korelasi yang negatif sedang (-0,32) terhadap jumlah pengguna sepeda, sedangkan kecapatan udara memiliki korelasi yang positif sangat lemah (0,09) terhadap jumlah pengguna sepeda. </p>"
      ]
    }
  ],
  "metadata": {
    "colab": {
      "provenance": []
    },
    "kernelspec": {
      "display_name": "Python 3",
      "language": "python",
      "name": "python3"
    },
    "language_info": {
      "codemirror_mode": {
        "name": "ipython",
        "version": 3
      },
      "file_extension": ".py",
      "mimetype": "text/x-python",
      "name": "python",
      "nbconvert_exporter": "python",
      "pygments_lexer": "ipython3",
      "version": "3.13.2"
    },
    "orig_nbformat": 4,
    "vscode": {
      "interpreter": {
        "hash": "972b3bf27e332e87b5379f2791f6ef9dfc79c71018c370b0d7423235e20fe4d7"
      }
    }
  },
  "nbformat": 4,
  "nbformat_minor": 0
}
